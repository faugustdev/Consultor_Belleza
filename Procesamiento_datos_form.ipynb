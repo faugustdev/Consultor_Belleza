{
  "nbformat": 4,
  "nbformat_minor": 0,
  "metadata": {
    "colab": {
      "provenance": [],
      "authorship_tag": "ABX9TyOZctcMqIc1BeyId53SqCoJ",
      "include_colab_link": true
    },
    "kernelspec": {
      "name": "python3",
      "display_name": "Python 3"
    },
    "language_info": {
      "name": "python"
    }
  },
  "cells": [
    {
      "cell_type": "markdown",
      "metadata": {
        "id": "view-in-github",
        "colab_type": "text"
      },
      "source": [
        "<a href=\"https://colab.research.google.com/github/rmanzi13/Consultor_Belleza/blob/main/Procesamiento_datos_form.ipynb\" target=\"_parent\"><img src=\"https://colab.research.google.com/assets/colab-badge.svg\" alt=\"Open In Colab\"/></a>"
      ]
    },
    {
      "cell_type": "code",
      "execution_count": null,
      "metadata": {
        "id": "4ae1Jx6I_uIM"
      },
      "outputs": [],
      "source": [
        "\n",
        "import pandas as pd"
      ]
    },
    {
      "cell_type": "code",
      "source": [
        "data = pd.read_csv('/content/data_form_type_skin.csv')"
      ],
      "metadata": {
        "id": "w9EonCDSAF3p"
      },
      "execution_count": null,
      "outputs": []
    },
    {
      "cell_type": "code",
      "source": [
        "data.head(2)"
      ],
      "metadata": {
        "colab": {
          "base_uri": "https://localhost:8080/",
          "height": 164
        },
        "id": "-b2WS5aJAP2y",
        "outputId": "36d5829e-5166-4f2f-f14d-133f49058033"
      },
      "execution_count": null,
      "outputs": [
        {
          "output_type": "execute_result",
          "data": {
            "text/plain": [
              "         Pregunta 1 Pregunta 2                    Pregunta 3 Pregunta 4  \\\n",
              "0  Gruesa y untuosa    Siempre  Más bien oscuro o aceitunado    Siempre   \n",
              "1  Gruesa y untuosa    Siempre  Más bien oscuro o aceitunado    Siempre   \n",
              "\n",
              "  Pregunta 5  Pregunta 6 Pregunta 7          Pregunta 8 Pregunta 9  \\\n",
              "0         No  Casi nunca      Nunca  Sí, suelo tenerlos         No   \n",
              "1         No  Casi nunca      Nunca  Sí, suelo tenerlos         No   \n",
              "\n",
              "                                         Pregunta 10 Tipo de Piel  \n",
              "0                                                 No         Oily  \n",
              "1  Alguna vez, sobre todo si se trataba de un pro...         Oily  "
            ],
            "text/html": [
              "\n",
              "  <div id=\"df-cf49aa3c-fe21-44c8-b1a2-324e3f5e8ad7\" class=\"colab-df-container\">\n",
              "    <div>\n",
              "<style scoped>\n",
              "    .dataframe tbody tr th:only-of-type {\n",
              "        vertical-align: middle;\n",
              "    }\n",
              "\n",
              "    .dataframe tbody tr th {\n",
              "        vertical-align: top;\n",
              "    }\n",
              "\n",
              "    .dataframe thead th {\n",
              "        text-align: right;\n",
              "    }\n",
              "</style>\n",
              "<table border=\"1\" class=\"dataframe\">\n",
              "  <thead>\n",
              "    <tr style=\"text-align: right;\">\n",
              "      <th></th>\n",
              "      <th>Pregunta 1</th>\n",
              "      <th>Pregunta 2</th>\n",
              "      <th>Pregunta 3</th>\n",
              "      <th>Pregunta 4</th>\n",
              "      <th>Pregunta 5</th>\n",
              "      <th>Pregunta 6</th>\n",
              "      <th>Pregunta 7</th>\n",
              "      <th>Pregunta 8</th>\n",
              "      <th>Pregunta 9</th>\n",
              "      <th>Pregunta 10</th>\n",
              "      <th>Tipo de Piel</th>\n",
              "    </tr>\n",
              "  </thead>\n",
              "  <tbody>\n",
              "    <tr>\n",
              "      <th>0</th>\n",
              "      <td>Gruesa y untuosa</td>\n",
              "      <td>Siempre</td>\n",
              "      <td>Más bien oscuro o aceitunado</td>\n",
              "      <td>Siempre</td>\n",
              "      <td>No</td>\n",
              "      <td>Casi nunca</td>\n",
              "      <td>Nunca</td>\n",
              "      <td>Sí, suelo tenerlos</td>\n",
              "      <td>No</td>\n",
              "      <td>No</td>\n",
              "      <td>Oily</td>\n",
              "    </tr>\n",
              "    <tr>\n",
              "      <th>1</th>\n",
              "      <td>Gruesa y untuosa</td>\n",
              "      <td>Siempre</td>\n",
              "      <td>Más bien oscuro o aceitunado</td>\n",
              "      <td>Siempre</td>\n",
              "      <td>No</td>\n",
              "      <td>Casi nunca</td>\n",
              "      <td>Nunca</td>\n",
              "      <td>Sí, suelo tenerlos</td>\n",
              "      <td>No</td>\n",
              "      <td>Alguna vez, sobre todo si se trataba de un pro...</td>\n",
              "      <td>Oily</td>\n",
              "    </tr>\n",
              "  </tbody>\n",
              "</table>\n",
              "</div>\n",
              "    <div class=\"colab-df-buttons\">\n",
              "\n",
              "  <div class=\"colab-df-container\">\n",
              "    <button class=\"colab-df-convert\" onclick=\"convertToInteractive('df-cf49aa3c-fe21-44c8-b1a2-324e3f5e8ad7')\"\n",
              "            title=\"Convert this dataframe to an interactive table.\"\n",
              "            style=\"display:none;\">\n",
              "\n",
              "  <svg xmlns=\"http://www.w3.org/2000/svg\" height=\"24px\" viewBox=\"0 -960 960 960\">\n",
              "    <path d=\"M120-120v-720h720v720H120Zm60-500h600v-160H180v160Zm220 220h160v-160H400v160Zm0 220h160v-160H400v160ZM180-400h160v-160H180v160Zm440 0h160v-160H620v160ZM180-180h160v-160H180v160Zm440 0h160v-160H620v160Z\"/>\n",
              "  </svg>\n",
              "    </button>\n",
              "\n",
              "  <style>\n",
              "    .colab-df-container {\n",
              "      display:flex;\n",
              "      gap: 12px;\n",
              "    }\n",
              "\n",
              "    .colab-df-convert {\n",
              "      background-color: #E8F0FE;\n",
              "      border: none;\n",
              "      border-radius: 50%;\n",
              "      cursor: pointer;\n",
              "      display: none;\n",
              "      fill: #1967D2;\n",
              "      height: 32px;\n",
              "      padding: 0 0 0 0;\n",
              "      width: 32px;\n",
              "    }\n",
              "\n",
              "    .colab-df-convert:hover {\n",
              "      background-color: #E2EBFA;\n",
              "      box-shadow: 0px 1px 2px rgba(60, 64, 67, 0.3), 0px 1px 3px 1px rgba(60, 64, 67, 0.15);\n",
              "      fill: #174EA6;\n",
              "    }\n",
              "\n",
              "    .colab-df-buttons div {\n",
              "      margin-bottom: 4px;\n",
              "    }\n",
              "\n",
              "    [theme=dark] .colab-df-convert {\n",
              "      background-color: #3B4455;\n",
              "      fill: #D2E3FC;\n",
              "    }\n",
              "\n",
              "    [theme=dark] .colab-df-convert:hover {\n",
              "      background-color: #434B5C;\n",
              "      box-shadow: 0px 1px 3px 1px rgba(0, 0, 0, 0.15);\n",
              "      filter: drop-shadow(0px 1px 2px rgba(0, 0, 0, 0.3));\n",
              "      fill: #FFFFFF;\n",
              "    }\n",
              "  </style>\n",
              "\n",
              "    <script>\n",
              "      const buttonEl =\n",
              "        document.querySelector('#df-cf49aa3c-fe21-44c8-b1a2-324e3f5e8ad7 button.colab-df-convert');\n",
              "      buttonEl.style.display =\n",
              "        google.colab.kernel.accessAllowed ? 'block' : 'none';\n",
              "\n",
              "      async function convertToInteractive(key) {\n",
              "        const element = document.querySelector('#df-cf49aa3c-fe21-44c8-b1a2-324e3f5e8ad7');\n",
              "        const dataTable =\n",
              "          await google.colab.kernel.invokeFunction('convertToInteractive',\n",
              "                                                    [key], {});\n",
              "        if (!dataTable) return;\n",
              "\n",
              "        const docLinkHtml = 'Like what you see? Visit the ' +\n",
              "          '<a target=\"_blank\" href=https://colab.research.google.com/notebooks/data_table.ipynb>data table notebook</a>'\n",
              "          + ' to learn more about interactive tables.';\n",
              "        element.innerHTML = '';\n",
              "        dataTable['output_type'] = 'display_data';\n",
              "        await google.colab.output.renderOutput(dataTable, element);\n",
              "        const docLink = document.createElement('div');\n",
              "        docLink.innerHTML = docLinkHtml;\n",
              "        element.appendChild(docLink);\n",
              "      }\n",
              "    </script>\n",
              "  </div>\n",
              "\n",
              "\n",
              "<div id=\"df-fd76ae6d-7464-4631-b014-b96513cc02c9\">\n",
              "  <button class=\"colab-df-quickchart\" onclick=\"quickchart('df-fd76ae6d-7464-4631-b014-b96513cc02c9')\"\n",
              "            title=\"Suggest charts\"\n",
              "            style=\"display:none;\">\n",
              "\n",
              "<svg xmlns=\"http://www.w3.org/2000/svg\" height=\"24px\"viewBox=\"0 0 24 24\"\n",
              "     width=\"24px\">\n",
              "    <g>\n",
              "        <path d=\"M19 3H5c-1.1 0-2 .9-2 2v14c0 1.1.9 2 2 2h14c1.1 0 2-.9 2-2V5c0-1.1-.9-2-2-2zM9 17H7v-7h2v7zm4 0h-2V7h2v10zm4 0h-2v-4h2v4z\"/>\n",
              "    </g>\n",
              "</svg>\n",
              "  </button>\n",
              "\n",
              "<style>\n",
              "  .colab-df-quickchart {\n",
              "      --bg-color: #E8F0FE;\n",
              "      --fill-color: #1967D2;\n",
              "      --hover-bg-color: #E2EBFA;\n",
              "      --hover-fill-color: #174EA6;\n",
              "      --disabled-fill-color: #AAA;\n",
              "      --disabled-bg-color: #DDD;\n",
              "  }\n",
              "\n",
              "  [theme=dark] .colab-df-quickchart {\n",
              "      --bg-color: #3B4455;\n",
              "      --fill-color: #D2E3FC;\n",
              "      --hover-bg-color: #434B5C;\n",
              "      --hover-fill-color: #FFFFFF;\n",
              "      --disabled-bg-color: #3B4455;\n",
              "      --disabled-fill-color: #666;\n",
              "  }\n",
              "\n",
              "  .colab-df-quickchart {\n",
              "    background-color: var(--bg-color);\n",
              "    border: none;\n",
              "    border-radius: 50%;\n",
              "    cursor: pointer;\n",
              "    display: none;\n",
              "    fill: var(--fill-color);\n",
              "    height: 32px;\n",
              "    padding: 0;\n",
              "    width: 32px;\n",
              "  }\n",
              "\n",
              "  .colab-df-quickchart:hover {\n",
              "    background-color: var(--hover-bg-color);\n",
              "    box-shadow: 0 1px 2px rgba(60, 64, 67, 0.3), 0 1px 3px 1px rgba(60, 64, 67, 0.15);\n",
              "    fill: var(--button-hover-fill-color);\n",
              "  }\n",
              "\n",
              "  .colab-df-quickchart-complete:disabled,\n",
              "  .colab-df-quickchart-complete:disabled:hover {\n",
              "    background-color: var(--disabled-bg-color);\n",
              "    fill: var(--disabled-fill-color);\n",
              "    box-shadow: none;\n",
              "  }\n",
              "\n",
              "  .colab-df-spinner {\n",
              "    border: 2px solid var(--fill-color);\n",
              "    border-color: transparent;\n",
              "    border-bottom-color: var(--fill-color);\n",
              "    animation:\n",
              "      spin 1s steps(1) infinite;\n",
              "  }\n",
              "\n",
              "  @keyframes spin {\n",
              "    0% {\n",
              "      border-color: transparent;\n",
              "      border-bottom-color: var(--fill-color);\n",
              "      border-left-color: var(--fill-color);\n",
              "    }\n",
              "    20% {\n",
              "      border-color: transparent;\n",
              "      border-left-color: var(--fill-color);\n",
              "      border-top-color: var(--fill-color);\n",
              "    }\n",
              "    30% {\n",
              "      border-color: transparent;\n",
              "      border-left-color: var(--fill-color);\n",
              "      border-top-color: var(--fill-color);\n",
              "      border-right-color: var(--fill-color);\n",
              "    }\n",
              "    40% {\n",
              "      border-color: transparent;\n",
              "      border-right-color: var(--fill-color);\n",
              "      border-top-color: var(--fill-color);\n",
              "    }\n",
              "    60% {\n",
              "      border-color: transparent;\n",
              "      border-right-color: var(--fill-color);\n",
              "    }\n",
              "    80% {\n",
              "      border-color: transparent;\n",
              "      border-right-color: var(--fill-color);\n",
              "      border-bottom-color: var(--fill-color);\n",
              "    }\n",
              "    90% {\n",
              "      border-color: transparent;\n",
              "      border-bottom-color: var(--fill-color);\n",
              "    }\n",
              "  }\n",
              "</style>\n",
              "\n",
              "  <script>\n",
              "    async function quickchart(key) {\n",
              "      const quickchartButtonEl =\n",
              "        document.querySelector('#' + key + ' button');\n",
              "      quickchartButtonEl.disabled = true;  // To prevent multiple clicks.\n",
              "      quickchartButtonEl.classList.add('colab-df-spinner');\n",
              "      try {\n",
              "        const charts = await google.colab.kernel.invokeFunction(\n",
              "            'suggestCharts', [key], {});\n",
              "      } catch (error) {\n",
              "        console.error('Error during call to suggestCharts:', error);\n",
              "      }\n",
              "      quickchartButtonEl.classList.remove('colab-df-spinner');\n",
              "      quickchartButtonEl.classList.add('colab-df-quickchart-complete');\n",
              "    }\n",
              "    (() => {\n",
              "      let quickchartButtonEl =\n",
              "        document.querySelector('#df-fd76ae6d-7464-4631-b014-b96513cc02c9 button');\n",
              "      quickchartButtonEl.style.display =\n",
              "        google.colab.kernel.accessAllowed ? 'block' : 'none';\n",
              "    })();\n",
              "  </script>\n",
              "</div>\n",
              "    </div>\n",
              "  </div>\n"
            ]
          },
          "metadata": {},
          "execution_count": 103
        }
      ]
    },
    {
      "cell_type": "code",
      "source": [
        "# Renombramos columnas de preguntas\n",
        "data.rename(columns={\n",
        "    'Pregunta 1': 'Textura_Piel',\n",
        "    'Pregunta 2': 'Piel_Brillante',\n",
        "    'Pregunta 3': 'Tono_Piel',\n",
        "    'Pregunta 4': 'Granitos_Imperfecciones',\n",
        "    'Pregunta 5': 'Enrojece_Facilidad',\n",
        "    'Pregunta 6': 'Irritacion_Piel',\n",
        "    'Pregunta 7': 'Tirantez_Sequedad',\n",
        "    'Pregunta 8': 'Poros_Abiertos',\n",
        "    'Pregunta 9': 'Couperosis',\n",
        "    'Pregunta 10': 'Alergia_Cosmeticos'\n",
        "}, inplace=True)"
      ],
      "metadata": {
        "id": "Y7EIEGpgAXOA"
      },
      "execution_count": null,
      "outputs": []
    },
    {
      "cell_type": "code",
      "source": [
        "data.head(2)"
      ],
      "metadata": {
        "colab": {
          "base_uri": "https://localhost:8080/",
          "height": 236
        },
        "id": "bhcwPLj2AaVY",
        "outputId": "eb5c5a6e-857a-4173-c829-0aaf306cef45"
      },
      "execution_count": null,
      "outputs": [
        {
          "output_type": "execute_result",
          "data": {
            "text/plain": [
              "       Textura_Piel Piel_Brillante                     Tono_Piel  \\\n",
              "0  Gruesa y untuosa        Siempre  Más bien oscuro o aceitunado   \n",
              "1  Gruesa y untuosa        Siempre  Más bien oscuro o aceitunado   \n",
              "\n",
              "  Granitos_Imperfecciones Enrojece_Facilidad Irritacion_Piel  \\\n",
              "0                 Siempre                 No      Casi nunca   \n",
              "1                 Siempre                 No      Casi nunca   \n",
              "\n",
              "  Tirantez_Sequedad      Poros_Abiertos Couperosis  \\\n",
              "0             Nunca  Sí, suelo tenerlos         No   \n",
              "1             Nunca  Sí, suelo tenerlos         No   \n",
              "\n",
              "                                  Alergia_Cosmeticos Tipo de Piel  \n",
              "0                                                 No         Oily  \n",
              "1  Alguna vez, sobre todo si se trataba de un pro...         Oily  "
            ],
            "text/html": [
              "\n",
              "  <div id=\"df-0bdcf2f6-dd84-4ca5-b4e6-8066fa7e46d5\" class=\"colab-df-container\">\n",
              "    <div>\n",
              "<style scoped>\n",
              "    .dataframe tbody tr th:only-of-type {\n",
              "        vertical-align: middle;\n",
              "    }\n",
              "\n",
              "    .dataframe tbody tr th {\n",
              "        vertical-align: top;\n",
              "    }\n",
              "\n",
              "    .dataframe thead th {\n",
              "        text-align: right;\n",
              "    }\n",
              "</style>\n",
              "<table border=\"1\" class=\"dataframe\">\n",
              "  <thead>\n",
              "    <tr style=\"text-align: right;\">\n",
              "      <th></th>\n",
              "      <th>Textura_Piel</th>\n",
              "      <th>Piel_Brillante</th>\n",
              "      <th>Tono_Piel</th>\n",
              "      <th>Granitos_Imperfecciones</th>\n",
              "      <th>Enrojece_Facilidad</th>\n",
              "      <th>Irritacion_Piel</th>\n",
              "      <th>Tirantez_Sequedad</th>\n",
              "      <th>Poros_Abiertos</th>\n",
              "      <th>Couperosis</th>\n",
              "      <th>Alergia_Cosmeticos</th>\n",
              "      <th>Tipo de Piel</th>\n",
              "    </tr>\n",
              "  </thead>\n",
              "  <tbody>\n",
              "    <tr>\n",
              "      <th>0</th>\n",
              "      <td>Gruesa y untuosa</td>\n",
              "      <td>Siempre</td>\n",
              "      <td>Más bien oscuro o aceitunado</td>\n",
              "      <td>Siempre</td>\n",
              "      <td>No</td>\n",
              "      <td>Casi nunca</td>\n",
              "      <td>Nunca</td>\n",
              "      <td>Sí, suelo tenerlos</td>\n",
              "      <td>No</td>\n",
              "      <td>No</td>\n",
              "      <td>Oily</td>\n",
              "    </tr>\n",
              "    <tr>\n",
              "      <th>1</th>\n",
              "      <td>Gruesa y untuosa</td>\n",
              "      <td>Siempre</td>\n",
              "      <td>Más bien oscuro o aceitunado</td>\n",
              "      <td>Siempre</td>\n",
              "      <td>No</td>\n",
              "      <td>Casi nunca</td>\n",
              "      <td>Nunca</td>\n",
              "      <td>Sí, suelo tenerlos</td>\n",
              "      <td>No</td>\n",
              "      <td>Alguna vez, sobre todo si se trataba de un pro...</td>\n",
              "      <td>Oily</td>\n",
              "    </tr>\n",
              "  </tbody>\n",
              "</table>\n",
              "</div>\n",
              "    <div class=\"colab-df-buttons\">\n",
              "\n",
              "  <div class=\"colab-df-container\">\n",
              "    <button class=\"colab-df-convert\" onclick=\"convertToInteractive('df-0bdcf2f6-dd84-4ca5-b4e6-8066fa7e46d5')\"\n",
              "            title=\"Convert this dataframe to an interactive table.\"\n",
              "            style=\"display:none;\">\n",
              "\n",
              "  <svg xmlns=\"http://www.w3.org/2000/svg\" height=\"24px\" viewBox=\"0 -960 960 960\">\n",
              "    <path d=\"M120-120v-720h720v720H120Zm60-500h600v-160H180v160Zm220 220h160v-160H400v160Zm0 220h160v-160H400v160ZM180-400h160v-160H180v160Zm440 0h160v-160H620v160ZM180-180h160v-160H180v160Zm440 0h160v-160H620v160Z\"/>\n",
              "  </svg>\n",
              "    </button>\n",
              "\n",
              "  <style>\n",
              "    .colab-df-container {\n",
              "      display:flex;\n",
              "      gap: 12px;\n",
              "    }\n",
              "\n",
              "    .colab-df-convert {\n",
              "      background-color: #E8F0FE;\n",
              "      border: none;\n",
              "      border-radius: 50%;\n",
              "      cursor: pointer;\n",
              "      display: none;\n",
              "      fill: #1967D2;\n",
              "      height: 32px;\n",
              "      padding: 0 0 0 0;\n",
              "      width: 32px;\n",
              "    }\n",
              "\n",
              "    .colab-df-convert:hover {\n",
              "      background-color: #E2EBFA;\n",
              "      box-shadow: 0px 1px 2px rgba(60, 64, 67, 0.3), 0px 1px 3px 1px rgba(60, 64, 67, 0.15);\n",
              "      fill: #174EA6;\n",
              "    }\n",
              "\n",
              "    .colab-df-buttons div {\n",
              "      margin-bottom: 4px;\n",
              "    }\n",
              "\n",
              "    [theme=dark] .colab-df-convert {\n",
              "      background-color: #3B4455;\n",
              "      fill: #D2E3FC;\n",
              "    }\n",
              "\n",
              "    [theme=dark] .colab-df-convert:hover {\n",
              "      background-color: #434B5C;\n",
              "      box-shadow: 0px 1px 3px 1px rgba(0, 0, 0, 0.15);\n",
              "      filter: drop-shadow(0px 1px 2px rgba(0, 0, 0, 0.3));\n",
              "      fill: #FFFFFF;\n",
              "    }\n",
              "  </style>\n",
              "\n",
              "    <script>\n",
              "      const buttonEl =\n",
              "        document.querySelector('#df-0bdcf2f6-dd84-4ca5-b4e6-8066fa7e46d5 button.colab-df-convert');\n",
              "      buttonEl.style.display =\n",
              "        google.colab.kernel.accessAllowed ? 'block' : 'none';\n",
              "\n",
              "      async function convertToInteractive(key) {\n",
              "        const element = document.querySelector('#df-0bdcf2f6-dd84-4ca5-b4e6-8066fa7e46d5');\n",
              "        const dataTable =\n",
              "          await google.colab.kernel.invokeFunction('convertToInteractive',\n",
              "                                                    [key], {});\n",
              "        if (!dataTable) return;\n",
              "\n",
              "        const docLinkHtml = 'Like what you see? Visit the ' +\n",
              "          '<a target=\"_blank\" href=https://colab.research.google.com/notebooks/data_table.ipynb>data table notebook</a>'\n",
              "          + ' to learn more about interactive tables.';\n",
              "        element.innerHTML = '';\n",
              "        dataTable['output_type'] = 'display_data';\n",
              "        await google.colab.output.renderOutput(dataTable, element);\n",
              "        const docLink = document.createElement('div');\n",
              "        docLink.innerHTML = docLinkHtml;\n",
              "        element.appendChild(docLink);\n",
              "      }\n",
              "    </script>\n",
              "  </div>\n",
              "\n",
              "\n",
              "<div id=\"df-d31b6168-8afa-4b62-925e-d80235708865\">\n",
              "  <button class=\"colab-df-quickchart\" onclick=\"quickchart('df-d31b6168-8afa-4b62-925e-d80235708865')\"\n",
              "            title=\"Suggest charts\"\n",
              "            style=\"display:none;\">\n",
              "\n",
              "<svg xmlns=\"http://www.w3.org/2000/svg\" height=\"24px\"viewBox=\"0 0 24 24\"\n",
              "     width=\"24px\">\n",
              "    <g>\n",
              "        <path d=\"M19 3H5c-1.1 0-2 .9-2 2v14c0 1.1.9 2 2 2h14c1.1 0 2-.9 2-2V5c0-1.1-.9-2-2-2zM9 17H7v-7h2v7zm4 0h-2V7h2v10zm4 0h-2v-4h2v4z\"/>\n",
              "    </g>\n",
              "</svg>\n",
              "  </button>\n",
              "\n",
              "<style>\n",
              "  .colab-df-quickchart {\n",
              "      --bg-color: #E8F0FE;\n",
              "      --fill-color: #1967D2;\n",
              "      --hover-bg-color: #E2EBFA;\n",
              "      --hover-fill-color: #174EA6;\n",
              "      --disabled-fill-color: #AAA;\n",
              "      --disabled-bg-color: #DDD;\n",
              "  }\n",
              "\n",
              "  [theme=dark] .colab-df-quickchart {\n",
              "      --bg-color: #3B4455;\n",
              "      --fill-color: #D2E3FC;\n",
              "      --hover-bg-color: #434B5C;\n",
              "      --hover-fill-color: #FFFFFF;\n",
              "      --disabled-bg-color: #3B4455;\n",
              "      --disabled-fill-color: #666;\n",
              "  }\n",
              "\n",
              "  .colab-df-quickchart {\n",
              "    background-color: var(--bg-color);\n",
              "    border: none;\n",
              "    border-radius: 50%;\n",
              "    cursor: pointer;\n",
              "    display: none;\n",
              "    fill: var(--fill-color);\n",
              "    height: 32px;\n",
              "    padding: 0;\n",
              "    width: 32px;\n",
              "  }\n",
              "\n",
              "  .colab-df-quickchart:hover {\n",
              "    background-color: var(--hover-bg-color);\n",
              "    box-shadow: 0 1px 2px rgba(60, 64, 67, 0.3), 0 1px 3px 1px rgba(60, 64, 67, 0.15);\n",
              "    fill: var(--button-hover-fill-color);\n",
              "  }\n",
              "\n",
              "  .colab-df-quickchart-complete:disabled,\n",
              "  .colab-df-quickchart-complete:disabled:hover {\n",
              "    background-color: var(--disabled-bg-color);\n",
              "    fill: var(--disabled-fill-color);\n",
              "    box-shadow: none;\n",
              "  }\n",
              "\n",
              "  .colab-df-spinner {\n",
              "    border: 2px solid var(--fill-color);\n",
              "    border-color: transparent;\n",
              "    border-bottom-color: var(--fill-color);\n",
              "    animation:\n",
              "      spin 1s steps(1) infinite;\n",
              "  }\n",
              "\n",
              "  @keyframes spin {\n",
              "    0% {\n",
              "      border-color: transparent;\n",
              "      border-bottom-color: var(--fill-color);\n",
              "      border-left-color: var(--fill-color);\n",
              "    }\n",
              "    20% {\n",
              "      border-color: transparent;\n",
              "      border-left-color: var(--fill-color);\n",
              "      border-top-color: var(--fill-color);\n",
              "    }\n",
              "    30% {\n",
              "      border-color: transparent;\n",
              "      border-left-color: var(--fill-color);\n",
              "      border-top-color: var(--fill-color);\n",
              "      border-right-color: var(--fill-color);\n",
              "    }\n",
              "    40% {\n",
              "      border-color: transparent;\n",
              "      border-right-color: var(--fill-color);\n",
              "      border-top-color: var(--fill-color);\n",
              "    }\n",
              "    60% {\n",
              "      border-color: transparent;\n",
              "      border-right-color: var(--fill-color);\n",
              "    }\n",
              "    80% {\n",
              "      border-color: transparent;\n",
              "      border-right-color: var(--fill-color);\n",
              "      border-bottom-color: var(--fill-color);\n",
              "    }\n",
              "    90% {\n",
              "      border-color: transparent;\n",
              "      border-bottom-color: var(--fill-color);\n",
              "    }\n",
              "  }\n",
              "</style>\n",
              "\n",
              "  <script>\n",
              "    async function quickchart(key) {\n",
              "      const quickchartButtonEl =\n",
              "        document.querySelector('#' + key + ' button');\n",
              "      quickchartButtonEl.disabled = true;  // To prevent multiple clicks.\n",
              "      quickchartButtonEl.classList.add('colab-df-spinner');\n",
              "      try {\n",
              "        const charts = await google.colab.kernel.invokeFunction(\n",
              "            'suggestCharts', [key], {});\n",
              "      } catch (error) {\n",
              "        console.error('Error during call to suggestCharts:', error);\n",
              "      }\n",
              "      quickchartButtonEl.classList.remove('colab-df-spinner');\n",
              "      quickchartButtonEl.classList.add('colab-df-quickchart-complete');\n",
              "    }\n",
              "    (() => {\n",
              "      let quickchartButtonEl =\n",
              "        document.querySelector('#df-d31b6168-8afa-4b62-925e-d80235708865 button');\n",
              "      quickchartButtonEl.style.display =\n",
              "        google.colab.kernel.accessAllowed ? 'block' : 'none';\n",
              "    })();\n",
              "  </script>\n",
              "</div>\n",
              "    </div>\n",
              "  </div>\n"
            ]
          },
          "metadata": {},
          "execution_count": 105
        }
      ]
    },
    {
      "cell_type": "markdown",
      "source": [
        "### Replace de datos en las diferentes columnas de data"
      ],
      "metadata": {
        "id": "qrHDJefIAkYV"
      }
    },
    {
      "cell_type": "code",
      "source": [
        "# Replace de datos en Columna 'Textura_piel'\n",
        "data['Textura_Piel'] = data['Textura_Piel'].replace({\n",
        "    'Gruesa y untuosa': 'Gruesa',\n",
        "    'Brillante en la zona central, más seca en las mejillas': 'Brillante',\n",
        "    'Fina y suave': 'Sedosa'\n",
        "})"
      ],
      "metadata": {
        "id": "QLYlILxHAmEA"
      },
      "execution_count": null,
      "outputs": []
    },
    {
      "cell_type": "code",
      "source": [
        "data['Textura_Piel'].value_counts()"
      ],
      "metadata": {
        "colab": {
          "base_uri": "https://localhost:8080/"
        },
        "id": "dMWZ13HdAtd9",
        "outputId": "9584ae4a-2599-44ed-c61c-59c13ad999a2"
      },
      "execution_count": null,
      "outputs": [
        {
          "output_type": "execute_result",
          "data": {
            "text/plain": [
              "Gruesa       19683\n",
              "Brillante    19683\n",
              "Sedosa       19683\n",
              "Name: Textura_Piel, dtype: int64"
            ]
          },
          "metadata": {},
          "execution_count": 107
        }
      ]
    },
    {
      "cell_type": "code",
      "source": [
        "data['Piel_Brillante'].value_counts()"
      ],
      "metadata": {
        "colab": {
          "base_uri": "https://localhost:8080/"
        },
        "id": "iHFjF8jZCCHo",
        "outputId": "9444a7bb-cb9a-4011-a181-1cab752c0cb8"
      },
      "execution_count": null,
      "outputs": [
        {
          "output_type": "execute_result",
          "data": {
            "text/plain": [
              "Siempre    19683\n",
              "A veces    19683\n",
              "Nunca      19683\n",
              "Name: Piel_Brillante, dtype: int64"
            ]
          },
          "metadata": {},
          "execution_count": 108
        }
      ]
    },
    {
      "cell_type": "code",
      "source": [
        "textura_mapping = {\n",
        "    'Gruesa': 1,\n",
        "    'Brillante': 2,\n",
        "    'Sedosa': 3,\n",
        "}"
      ],
      "metadata": {
        "id": "qMr9xiS2AyJq"
      },
      "execution_count": null,
      "outputs": []
    },
    {
      "cell_type": "code",
      "source": [
        "# Utilizo la función map para asignar los valores numéricos a la nueva columna 'Label_Num'\n",
        "data['Textura_Piel_Num'] = data['Textura_Piel'].map(textura_mapping)"
      ],
      "metadata": {
        "id": "fD47tFjQA_zo"
      },
      "execution_count": null,
      "outputs": []
    },
    {
      "cell_type": "code",
      "source": [
        "data.head(1)"
      ],
      "metadata": {
        "colab": {
          "base_uri": "https://localhost:8080/",
          "height": 170
        },
        "id": "04D700V6BewF",
        "outputId": "95f389ef-55a8-4607-b541-84f402cccaf9"
      },
      "execution_count": null,
      "outputs": [
        {
          "output_type": "execute_result",
          "data": {
            "text/plain": [
              "  Textura_Piel Piel_Brillante                     Tono_Piel  \\\n",
              "0       Gruesa        Siempre  Más bien oscuro o aceitunado   \n",
              "\n",
              "  Granitos_Imperfecciones Enrojece_Facilidad Irritacion_Piel  \\\n",
              "0                 Siempre                 No      Casi nunca   \n",
              "\n",
              "  Tirantez_Sequedad      Poros_Abiertos Couperosis Alergia_Cosmeticos  \\\n",
              "0             Nunca  Sí, suelo tenerlos         No                 No   \n",
              "\n",
              "  Tipo de Piel  Textura_Piel_Num  \n",
              "0         Oily                 1  "
            ],
            "text/html": [
              "\n",
              "  <div id=\"df-a98658f6-d646-4c73-802b-51c8a66710b5\" class=\"colab-df-container\">\n",
              "    <div>\n",
              "<style scoped>\n",
              "    .dataframe tbody tr th:only-of-type {\n",
              "        vertical-align: middle;\n",
              "    }\n",
              "\n",
              "    .dataframe tbody tr th {\n",
              "        vertical-align: top;\n",
              "    }\n",
              "\n",
              "    .dataframe thead th {\n",
              "        text-align: right;\n",
              "    }\n",
              "</style>\n",
              "<table border=\"1\" class=\"dataframe\">\n",
              "  <thead>\n",
              "    <tr style=\"text-align: right;\">\n",
              "      <th></th>\n",
              "      <th>Textura_Piel</th>\n",
              "      <th>Piel_Brillante</th>\n",
              "      <th>Tono_Piel</th>\n",
              "      <th>Granitos_Imperfecciones</th>\n",
              "      <th>Enrojece_Facilidad</th>\n",
              "      <th>Irritacion_Piel</th>\n",
              "      <th>Tirantez_Sequedad</th>\n",
              "      <th>Poros_Abiertos</th>\n",
              "      <th>Couperosis</th>\n",
              "      <th>Alergia_Cosmeticos</th>\n",
              "      <th>Tipo de Piel</th>\n",
              "      <th>Textura_Piel_Num</th>\n",
              "    </tr>\n",
              "  </thead>\n",
              "  <tbody>\n",
              "    <tr>\n",
              "      <th>0</th>\n",
              "      <td>Gruesa</td>\n",
              "      <td>Siempre</td>\n",
              "      <td>Más bien oscuro o aceitunado</td>\n",
              "      <td>Siempre</td>\n",
              "      <td>No</td>\n",
              "      <td>Casi nunca</td>\n",
              "      <td>Nunca</td>\n",
              "      <td>Sí, suelo tenerlos</td>\n",
              "      <td>No</td>\n",
              "      <td>No</td>\n",
              "      <td>Oily</td>\n",
              "      <td>1</td>\n",
              "    </tr>\n",
              "  </tbody>\n",
              "</table>\n",
              "</div>\n",
              "    <div class=\"colab-df-buttons\">\n",
              "\n",
              "  <div class=\"colab-df-container\">\n",
              "    <button class=\"colab-df-convert\" onclick=\"convertToInteractive('df-a98658f6-d646-4c73-802b-51c8a66710b5')\"\n",
              "            title=\"Convert this dataframe to an interactive table.\"\n",
              "            style=\"display:none;\">\n",
              "\n",
              "  <svg xmlns=\"http://www.w3.org/2000/svg\" height=\"24px\" viewBox=\"0 -960 960 960\">\n",
              "    <path d=\"M120-120v-720h720v720H120Zm60-500h600v-160H180v160Zm220 220h160v-160H400v160Zm0 220h160v-160H400v160ZM180-400h160v-160H180v160Zm440 0h160v-160H620v160ZM180-180h160v-160H180v160Zm440 0h160v-160H620v160Z\"/>\n",
              "  </svg>\n",
              "    </button>\n",
              "\n",
              "  <style>\n",
              "    .colab-df-container {\n",
              "      display:flex;\n",
              "      gap: 12px;\n",
              "    }\n",
              "\n",
              "    .colab-df-convert {\n",
              "      background-color: #E8F0FE;\n",
              "      border: none;\n",
              "      border-radius: 50%;\n",
              "      cursor: pointer;\n",
              "      display: none;\n",
              "      fill: #1967D2;\n",
              "      height: 32px;\n",
              "      padding: 0 0 0 0;\n",
              "      width: 32px;\n",
              "    }\n",
              "\n",
              "    .colab-df-convert:hover {\n",
              "      background-color: #E2EBFA;\n",
              "      box-shadow: 0px 1px 2px rgba(60, 64, 67, 0.3), 0px 1px 3px 1px rgba(60, 64, 67, 0.15);\n",
              "      fill: #174EA6;\n",
              "    }\n",
              "\n",
              "    .colab-df-buttons div {\n",
              "      margin-bottom: 4px;\n",
              "    }\n",
              "\n",
              "    [theme=dark] .colab-df-convert {\n",
              "      background-color: #3B4455;\n",
              "      fill: #D2E3FC;\n",
              "    }\n",
              "\n",
              "    [theme=dark] .colab-df-convert:hover {\n",
              "      background-color: #434B5C;\n",
              "      box-shadow: 0px 1px 3px 1px rgba(0, 0, 0, 0.15);\n",
              "      filter: drop-shadow(0px 1px 2px rgba(0, 0, 0, 0.3));\n",
              "      fill: #FFFFFF;\n",
              "    }\n",
              "  </style>\n",
              "\n",
              "    <script>\n",
              "      const buttonEl =\n",
              "        document.querySelector('#df-a98658f6-d646-4c73-802b-51c8a66710b5 button.colab-df-convert');\n",
              "      buttonEl.style.display =\n",
              "        google.colab.kernel.accessAllowed ? 'block' : 'none';\n",
              "\n",
              "      async function convertToInteractive(key) {\n",
              "        const element = document.querySelector('#df-a98658f6-d646-4c73-802b-51c8a66710b5');\n",
              "        const dataTable =\n",
              "          await google.colab.kernel.invokeFunction('convertToInteractive',\n",
              "                                                    [key], {});\n",
              "        if (!dataTable) return;\n",
              "\n",
              "        const docLinkHtml = 'Like what you see? Visit the ' +\n",
              "          '<a target=\"_blank\" href=https://colab.research.google.com/notebooks/data_table.ipynb>data table notebook</a>'\n",
              "          + ' to learn more about interactive tables.';\n",
              "        element.innerHTML = '';\n",
              "        dataTable['output_type'] = 'display_data';\n",
              "        await google.colab.output.renderOutput(dataTable, element);\n",
              "        const docLink = document.createElement('div');\n",
              "        docLink.innerHTML = docLinkHtml;\n",
              "        element.appendChild(docLink);\n",
              "      }\n",
              "    </script>\n",
              "  </div>\n",
              "\n",
              "    </div>\n",
              "  </div>\n"
            ]
          },
          "metadata": {},
          "execution_count": 111
        }
      ]
    },
    {
      "cell_type": "code",
      "source": [
        "brillante_mapping = {\n",
        "    'Siempre': 1,\n",
        "    'A veces': 2,\n",
        "    'Nunca': 3,\n",
        "}"
      ],
      "metadata": {
        "id": "7oEkA8VWCWC5"
      },
      "execution_count": null,
      "outputs": []
    },
    {
      "cell_type": "code",
      "source": [
        "data['Piel_Brillante_Num'] = data['Piel_Brillante'].map(brillante_mapping)"
      ],
      "metadata": {
        "id": "d6huV5a1CmxA"
      },
      "execution_count": null,
      "outputs": []
    },
    {
      "cell_type": "code",
      "source": [
        "data.head(1)"
      ],
      "metadata": {
        "colab": {
          "base_uri": "https://localhost:8080/",
          "height": 170
        },
        "id": "cmbwrw-eCvFf",
        "outputId": "79afb540-264e-41cd-ed4b-9e2f5faf4c3c"
      },
      "execution_count": null,
      "outputs": [
        {
          "output_type": "execute_result",
          "data": {
            "text/plain": [
              "  Textura_Piel Piel_Brillante                     Tono_Piel  \\\n",
              "0       Gruesa        Siempre  Más bien oscuro o aceitunado   \n",
              "\n",
              "  Granitos_Imperfecciones Enrojece_Facilidad Irritacion_Piel  \\\n",
              "0                 Siempre                 No      Casi nunca   \n",
              "\n",
              "  Tirantez_Sequedad      Poros_Abiertos Couperosis Alergia_Cosmeticos  \\\n",
              "0             Nunca  Sí, suelo tenerlos         No                 No   \n",
              "\n",
              "  Tipo de Piel  Textura_Piel_Num  Piel_Brillante_Num  \n",
              "0         Oily                 1                   1  "
            ],
            "text/html": [
              "\n",
              "  <div id=\"df-f5057000-86dd-4366-8f36-85023428fe8e\" class=\"colab-df-container\">\n",
              "    <div>\n",
              "<style scoped>\n",
              "    .dataframe tbody tr th:only-of-type {\n",
              "        vertical-align: middle;\n",
              "    }\n",
              "\n",
              "    .dataframe tbody tr th {\n",
              "        vertical-align: top;\n",
              "    }\n",
              "\n",
              "    .dataframe thead th {\n",
              "        text-align: right;\n",
              "    }\n",
              "</style>\n",
              "<table border=\"1\" class=\"dataframe\">\n",
              "  <thead>\n",
              "    <tr style=\"text-align: right;\">\n",
              "      <th></th>\n",
              "      <th>Textura_Piel</th>\n",
              "      <th>Piel_Brillante</th>\n",
              "      <th>Tono_Piel</th>\n",
              "      <th>Granitos_Imperfecciones</th>\n",
              "      <th>Enrojece_Facilidad</th>\n",
              "      <th>Irritacion_Piel</th>\n",
              "      <th>Tirantez_Sequedad</th>\n",
              "      <th>Poros_Abiertos</th>\n",
              "      <th>Couperosis</th>\n",
              "      <th>Alergia_Cosmeticos</th>\n",
              "      <th>Tipo de Piel</th>\n",
              "      <th>Textura_Piel_Num</th>\n",
              "      <th>Piel_Brillante_Num</th>\n",
              "    </tr>\n",
              "  </thead>\n",
              "  <tbody>\n",
              "    <tr>\n",
              "      <th>0</th>\n",
              "      <td>Gruesa</td>\n",
              "      <td>Siempre</td>\n",
              "      <td>Más bien oscuro o aceitunado</td>\n",
              "      <td>Siempre</td>\n",
              "      <td>No</td>\n",
              "      <td>Casi nunca</td>\n",
              "      <td>Nunca</td>\n",
              "      <td>Sí, suelo tenerlos</td>\n",
              "      <td>No</td>\n",
              "      <td>No</td>\n",
              "      <td>Oily</td>\n",
              "      <td>1</td>\n",
              "      <td>1</td>\n",
              "    </tr>\n",
              "  </tbody>\n",
              "</table>\n",
              "</div>\n",
              "    <div class=\"colab-df-buttons\">\n",
              "\n",
              "  <div class=\"colab-df-container\">\n",
              "    <button class=\"colab-df-convert\" onclick=\"convertToInteractive('df-f5057000-86dd-4366-8f36-85023428fe8e')\"\n",
              "            title=\"Convert this dataframe to an interactive table.\"\n",
              "            style=\"display:none;\">\n",
              "\n",
              "  <svg xmlns=\"http://www.w3.org/2000/svg\" height=\"24px\" viewBox=\"0 -960 960 960\">\n",
              "    <path d=\"M120-120v-720h720v720H120Zm60-500h600v-160H180v160Zm220 220h160v-160H400v160Zm0 220h160v-160H400v160ZM180-400h160v-160H180v160Zm440 0h160v-160H620v160ZM180-180h160v-160H180v160Zm440 0h160v-160H620v160Z\"/>\n",
              "  </svg>\n",
              "    </button>\n",
              "\n",
              "  <style>\n",
              "    .colab-df-container {\n",
              "      display:flex;\n",
              "      gap: 12px;\n",
              "    }\n",
              "\n",
              "    .colab-df-convert {\n",
              "      background-color: #E8F0FE;\n",
              "      border: none;\n",
              "      border-radius: 50%;\n",
              "      cursor: pointer;\n",
              "      display: none;\n",
              "      fill: #1967D2;\n",
              "      height: 32px;\n",
              "      padding: 0 0 0 0;\n",
              "      width: 32px;\n",
              "    }\n",
              "\n",
              "    .colab-df-convert:hover {\n",
              "      background-color: #E2EBFA;\n",
              "      box-shadow: 0px 1px 2px rgba(60, 64, 67, 0.3), 0px 1px 3px 1px rgba(60, 64, 67, 0.15);\n",
              "      fill: #174EA6;\n",
              "    }\n",
              "\n",
              "    .colab-df-buttons div {\n",
              "      margin-bottom: 4px;\n",
              "    }\n",
              "\n",
              "    [theme=dark] .colab-df-convert {\n",
              "      background-color: #3B4455;\n",
              "      fill: #D2E3FC;\n",
              "    }\n",
              "\n",
              "    [theme=dark] .colab-df-convert:hover {\n",
              "      background-color: #434B5C;\n",
              "      box-shadow: 0px 1px 3px 1px rgba(0, 0, 0, 0.15);\n",
              "      filter: drop-shadow(0px 1px 2px rgba(0, 0, 0, 0.3));\n",
              "      fill: #FFFFFF;\n",
              "    }\n",
              "  </style>\n",
              "\n",
              "    <script>\n",
              "      const buttonEl =\n",
              "        document.querySelector('#df-f5057000-86dd-4366-8f36-85023428fe8e button.colab-df-convert');\n",
              "      buttonEl.style.display =\n",
              "        google.colab.kernel.accessAllowed ? 'block' : 'none';\n",
              "\n",
              "      async function convertToInteractive(key) {\n",
              "        const element = document.querySelector('#df-f5057000-86dd-4366-8f36-85023428fe8e');\n",
              "        const dataTable =\n",
              "          await google.colab.kernel.invokeFunction('convertToInteractive',\n",
              "                                                    [key], {});\n",
              "        if (!dataTable) return;\n",
              "\n",
              "        const docLinkHtml = 'Like what you see? Visit the ' +\n",
              "          '<a target=\"_blank\" href=https://colab.research.google.com/notebooks/data_table.ipynb>data table notebook</a>'\n",
              "          + ' to learn more about interactive tables.';\n",
              "        element.innerHTML = '';\n",
              "        dataTable['output_type'] = 'display_data';\n",
              "        await google.colab.output.renderOutput(dataTable, element);\n",
              "        const docLink = document.createElement('div');\n",
              "        docLink.innerHTML = docLinkHtml;\n",
              "        element.appendChild(docLink);\n",
              "      }\n",
              "    </script>\n",
              "  </div>\n",
              "\n",
              "    </div>\n",
              "  </div>\n"
            ]
          },
          "metadata": {},
          "execution_count": 114
        }
      ]
    },
    {
      "cell_type": "code",
      "source": [
        "# Replace de datos en columna 'Tono Piel'\n",
        "data['Tono_Piel'] = data['Tono_Piel'].replace({\n",
        "    'Más bien oscuro o aceitunado': 'Moreno',\n",
        "    'Ni clara ni oscura': 'Trigueño',\n",
        "    'Bastante clara o muy blanca': 'Muy Blanca'\n",
        "})"
      ],
      "metadata": {
        "id": "6izr9MT-BjZ-"
      },
      "execution_count": null,
      "outputs": []
    },
    {
      "cell_type": "code",
      "source": [
        "data['Tono_Piel'].value_counts()"
      ],
      "metadata": {
        "colab": {
          "base_uri": "https://localhost:8080/"
        },
        "id": "JQ2tsJqPBw5K",
        "outputId": "37b68422-0153-4b97-d1b5-f31fa9224a76"
      },
      "execution_count": null,
      "outputs": [
        {
          "output_type": "execute_result",
          "data": {
            "text/plain": [
              "Moreno        19683\n",
              "Trigueño      19683\n",
              "Muy Blanca    19683\n",
              "Name: Tono_Piel, dtype: int64"
            ]
          },
          "metadata": {},
          "execution_count": 116
        }
      ]
    },
    {
      "cell_type": "code",
      "source": [
        "tono_mapping = {\n",
        "    'Moreno': 1,\n",
        "    'Trigueño': 2,\n",
        "    'Muy Blanca': 3,\n",
        "}"
      ],
      "metadata": {
        "id": "oCU5CbR2B3pY"
      },
      "execution_count": null,
      "outputs": []
    },
    {
      "cell_type": "code",
      "source": [
        "data['Tono_Piel_Num'] = data['Tono_Piel'].map(tono_mapping)"
      ],
      "metadata": {
        "id": "FRLWAg-kDOCR"
      },
      "execution_count": null,
      "outputs": []
    },
    {
      "cell_type": "code",
      "source": [
        "# Replace de datos en columna 'Granitos_Imperfecciones'\n",
        "data['Granitos_Imperfecciones'] = data['Granitos_Imperfecciones'].replace({\n",
        "    'En ocasiones': 'A veces',\n",
        "    'Casi nunca': 'Poco'\n",
        "})"
      ],
      "metadata": {
        "id": "zIAn6siGDci3"
      },
      "execution_count": null,
      "outputs": []
    },
    {
      "cell_type": "code",
      "source": [
        "data['Granitos_Imperfecciones'].value_counts()"
      ],
      "metadata": {
        "colab": {
          "base_uri": "https://localhost:8080/"
        },
        "id": "g3dG9s3cDfhQ",
        "outputId": "deb1044c-27a1-4377-8554-4e897efa0f94"
      },
      "execution_count": null,
      "outputs": [
        {
          "output_type": "execute_result",
          "data": {
            "text/plain": [
              "Siempre    19683\n",
              "A veces    19683\n",
              "Poco       19683\n",
              "Name: Granitos_Imperfecciones, dtype: int64"
            ]
          },
          "metadata": {},
          "execution_count": 120
        }
      ]
    },
    {
      "cell_type": "code",
      "source": [
        "granitos_mapping = {\n",
        "    'Siempre': 1,\n",
        "    'A veces': 2,\n",
        "    'Poco': 3,\n",
        "}"
      ],
      "metadata": {
        "id": "B1y8hfVPDk4v"
      },
      "execution_count": null,
      "outputs": []
    },
    {
      "cell_type": "code",
      "source": [
        "data['Granitos_Imperfecciones_Num'] = data['Granitos_Imperfecciones'].map(granitos_mapping)"
      ],
      "metadata": {
        "id": "dG0hG18GDqtF"
      },
      "execution_count": null,
      "outputs": []
    },
    {
      "cell_type": "code",
      "source": [
        "data.head(1)"
      ],
      "metadata": {
        "colab": {
          "base_uri": "https://localhost:8080/",
          "height": 153
        },
        "id": "YK5a__x_D4Tn",
        "outputId": "15c1aadd-49dd-481c-b008-c88e4e6a7688"
      },
      "execution_count": null,
      "outputs": [
        {
          "output_type": "execute_result",
          "data": {
            "text/plain": [
              "  Textura_Piel Piel_Brillante Tono_Piel Granitos_Imperfecciones  \\\n",
              "0       Gruesa        Siempre    Moreno                 Siempre   \n",
              "\n",
              "  Enrojece_Facilidad Irritacion_Piel Tirantez_Sequedad      Poros_Abiertos  \\\n",
              "0                 No      Casi nunca             Nunca  Sí, suelo tenerlos   \n",
              "\n",
              "  Couperosis Alergia_Cosmeticos Tipo de Piel  Textura_Piel_Num  \\\n",
              "0         No                 No         Oily                 1   \n",
              "\n",
              "   Piel_Brillante_Num  Tono_Piel_Num  Granitos_Imperfecciones_Num  \n",
              "0                   1              1                            1  "
            ],
            "text/html": [
              "\n",
              "  <div id=\"df-2b097860-f307-43f9-86bc-f6e79c153e19\" class=\"colab-df-container\">\n",
              "    <div>\n",
              "<style scoped>\n",
              "    .dataframe tbody tr th:only-of-type {\n",
              "        vertical-align: middle;\n",
              "    }\n",
              "\n",
              "    .dataframe tbody tr th {\n",
              "        vertical-align: top;\n",
              "    }\n",
              "\n",
              "    .dataframe thead th {\n",
              "        text-align: right;\n",
              "    }\n",
              "</style>\n",
              "<table border=\"1\" class=\"dataframe\">\n",
              "  <thead>\n",
              "    <tr style=\"text-align: right;\">\n",
              "      <th></th>\n",
              "      <th>Textura_Piel</th>\n",
              "      <th>Piel_Brillante</th>\n",
              "      <th>Tono_Piel</th>\n",
              "      <th>Granitos_Imperfecciones</th>\n",
              "      <th>Enrojece_Facilidad</th>\n",
              "      <th>Irritacion_Piel</th>\n",
              "      <th>Tirantez_Sequedad</th>\n",
              "      <th>Poros_Abiertos</th>\n",
              "      <th>Couperosis</th>\n",
              "      <th>Alergia_Cosmeticos</th>\n",
              "      <th>Tipo de Piel</th>\n",
              "      <th>Textura_Piel_Num</th>\n",
              "      <th>Piel_Brillante_Num</th>\n",
              "      <th>Tono_Piel_Num</th>\n",
              "      <th>Granitos_Imperfecciones_Num</th>\n",
              "    </tr>\n",
              "  </thead>\n",
              "  <tbody>\n",
              "    <tr>\n",
              "      <th>0</th>\n",
              "      <td>Gruesa</td>\n",
              "      <td>Siempre</td>\n",
              "      <td>Moreno</td>\n",
              "      <td>Siempre</td>\n",
              "      <td>No</td>\n",
              "      <td>Casi nunca</td>\n",
              "      <td>Nunca</td>\n",
              "      <td>Sí, suelo tenerlos</td>\n",
              "      <td>No</td>\n",
              "      <td>No</td>\n",
              "      <td>Oily</td>\n",
              "      <td>1</td>\n",
              "      <td>1</td>\n",
              "      <td>1</td>\n",
              "      <td>1</td>\n",
              "    </tr>\n",
              "  </tbody>\n",
              "</table>\n",
              "</div>\n",
              "    <div class=\"colab-df-buttons\">\n",
              "\n",
              "  <div class=\"colab-df-container\">\n",
              "    <button class=\"colab-df-convert\" onclick=\"convertToInteractive('df-2b097860-f307-43f9-86bc-f6e79c153e19')\"\n",
              "            title=\"Convert this dataframe to an interactive table.\"\n",
              "            style=\"display:none;\">\n",
              "\n",
              "  <svg xmlns=\"http://www.w3.org/2000/svg\" height=\"24px\" viewBox=\"0 -960 960 960\">\n",
              "    <path d=\"M120-120v-720h720v720H120Zm60-500h600v-160H180v160Zm220 220h160v-160H400v160Zm0 220h160v-160H400v160ZM180-400h160v-160H180v160Zm440 0h160v-160H620v160ZM180-180h160v-160H180v160Zm440 0h160v-160H620v160Z\"/>\n",
              "  </svg>\n",
              "    </button>\n",
              "\n",
              "  <style>\n",
              "    .colab-df-container {\n",
              "      display:flex;\n",
              "      gap: 12px;\n",
              "    }\n",
              "\n",
              "    .colab-df-convert {\n",
              "      background-color: #E8F0FE;\n",
              "      border: none;\n",
              "      border-radius: 50%;\n",
              "      cursor: pointer;\n",
              "      display: none;\n",
              "      fill: #1967D2;\n",
              "      height: 32px;\n",
              "      padding: 0 0 0 0;\n",
              "      width: 32px;\n",
              "    }\n",
              "\n",
              "    .colab-df-convert:hover {\n",
              "      background-color: #E2EBFA;\n",
              "      box-shadow: 0px 1px 2px rgba(60, 64, 67, 0.3), 0px 1px 3px 1px rgba(60, 64, 67, 0.15);\n",
              "      fill: #174EA6;\n",
              "    }\n",
              "\n",
              "    .colab-df-buttons div {\n",
              "      margin-bottom: 4px;\n",
              "    }\n",
              "\n",
              "    [theme=dark] .colab-df-convert {\n",
              "      background-color: #3B4455;\n",
              "      fill: #D2E3FC;\n",
              "    }\n",
              "\n",
              "    [theme=dark] .colab-df-convert:hover {\n",
              "      background-color: #434B5C;\n",
              "      box-shadow: 0px 1px 3px 1px rgba(0, 0, 0, 0.15);\n",
              "      filter: drop-shadow(0px 1px 2px rgba(0, 0, 0, 0.3));\n",
              "      fill: #FFFFFF;\n",
              "    }\n",
              "  </style>\n",
              "\n",
              "    <script>\n",
              "      const buttonEl =\n",
              "        document.querySelector('#df-2b097860-f307-43f9-86bc-f6e79c153e19 button.colab-df-convert');\n",
              "      buttonEl.style.display =\n",
              "        google.colab.kernel.accessAllowed ? 'block' : 'none';\n",
              "\n",
              "      async function convertToInteractive(key) {\n",
              "        const element = document.querySelector('#df-2b097860-f307-43f9-86bc-f6e79c153e19');\n",
              "        const dataTable =\n",
              "          await google.colab.kernel.invokeFunction('convertToInteractive',\n",
              "                                                    [key], {});\n",
              "        if (!dataTable) return;\n",
              "\n",
              "        const docLinkHtml = 'Like what you see? Visit the ' +\n",
              "          '<a target=\"_blank\" href=https://colab.research.google.com/notebooks/data_table.ipynb>data table notebook</a>'\n",
              "          + ' to learn more about interactive tables.';\n",
              "        element.innerHTML = '';\n",
              "        dataTable['output_type'] = 'display_data';\n",
              "        await google.colab.output.renderOutput(dataTable, element);\n",
              "        const docLink = document.createElement('div');\n",
              "        docLink.innerHTML = docLinkHtml;\n",
              "        element.appendChild(docLink);\n",
              "      }\n",
              "    </script>\n",
              "  </div>\n",
              "\n",
              "    </div>\n",
              "  </div>\n"
            ]
          },
          "metadata": {},
          "execution_count": 123
        }
      ]
    },
    {
      "cell_type": "code",
      "source": [
        "data['Enrojece_Facilidad'].value_counts()"
      ],
      "metadata": {
        "colab": {
          "base_uri": "https://localhost:8080/"
        },
        "id": "Uc8Oaoa7D7oB",
        "outputId": "31653a5d-ca3e-4440-8c5c-e4dd73c33570"
      },
      "execution_count": null,
      "outputs": [
        {
          "output_type": "execute_result",
          "data": {
            "text/plain": [
              "No         19683\n",
              "A veces    19683\n",
              "Siempre    19683\n",
              "Name: Enrojece_Facilidad, dtype: int64"
            ]
          },
          "metadata": {},
          "execution_count": 124
        }
      ]
    },
    {
      "cell_type": "code",
      "source": [
        "enrojece_mapping = {\n",
        "    'Siempre': 1,\n",
        "    'A veces': 2,\n",
        "    'No': 3,\n",
        "}"
      ],
      "metadata": {
        "id": "4dw6T-9-FNz0"
      },
      "execution_count": null,
      "outputs": []
    },
    {
      "cell_type": "code",
      "source": [
        "data['Enrojece_Facilidad_Num'] = data['Enrojece_Facilidad'].map(enrojece_mapping)"
      ],
      "metadata": {
        "id": "voQaAvU_FbL0"
      },
      "execution_count": null,
      "outputs": []
    },
    {
      "cell_type": "code",
      "source": [
        "# Replace de datos en columna 'Irritacion_Piel'\n",
        "data['Irritacion_Piel'] = data['Irritacion_Piel'].replace({\n",
        "    'Casi nunca': 'Poco',\n",
        "    'En muchas ocasiones': 'Mucho'\n",
        "})"
      ],
      "metadata": {
        "id": "2kBVvZq6FnM9"
      },
      "execution_count": null,
      "outputs": []
    },
    {
      "cell_type": "code",
      "source": [
        "data['Irritacion_Piel'].value_counts()"
      ],
      "metadata": {
        "colab": {
          "base_uri": "https://localhost:8080/"
        },
        "id": "E1ju8EZDFwCW",
        "outputId": "00ac6c9e-f04e-4e26-8512-cca57298db70"
      },
      "execution_count": null,
      "outputs": [
        {
          "output_type": "execute_result",
          "data": {
            "text/plain": [
              "Poco       19683\n",
              "A veces    19683\n",
              "Mucho      19683\n",
              "Name: Irritacion_Piel, dtype: int64"
            ]
          },
          "metadata": {},
          "execution_count": 128
        }
      ]
    },
    {
      "cell_type": "code",
      "source": [
        "irritacion_mapping = {\n",
        "    'Mucho': 1,\n",
        "    'A veces': 2,\n",
        "    'Poco': 3,\n",
        "}"
      ],
      "metadata": {
        "id": "Owb8GvblF6Y2"
      },
      "execution_count": null,
      "outputs": []
    },
    {
      "cell_type": "code",
      "source": [
        "data['Irritacion_Piel_Num'] = data['Irritacion_Piel'].map(irritacion_mapping)"
      ],
      "metadata": {
        "id": "DBXiVrVmGLdf"
      },
      "execution_count": null,
      "outputs": []
    },
    {
      "cell_type": "code",
      "source": [
        "# Replace de datos en columna 'Tirantez_Sequedad'\n",
        "data['Tirantez_Sequedad'] = data['Tirantez_Sequedad'].replace({\n",
        "    'Nunca': 'No',\n",
        "    'A veces, más en invierno': 'A veces',\n",
        "    'Casi siempre': 'Mucho'\n",
        "})"
      ],
      "metadata": {
        "id": "L9knaYmDGhZu"
      },
      "execution_count": null,
      "outputs": []
    },
    {
      "cell_type": "code",
      "source": [
        "data['Tirantez_Sequedad'].value_counts()"
      ],
      "metadata": {
        "colab": {
          "base_uri": "https://localhost:8080/"
        },
        "id": "ZxhoDGwFGoqZ",
        "outputId": "4710551d-10ca-4943-ef41-00d07aa97caa"
      },
      "execution_count": null,
      "outputs": [
        {
          "output_type": "execute_result",
          "data": {
            "text/plain": [
              "No         19683\n",
              "A veces    19683\n",
              "Mucho      19683\n",
              "Name: Tirantez_Sequedad, dtype: int64"
            ]
          },
          "metadata": {},
          "execution_count": 132
        }
      ]
    },
    {
      "cell_type": "code",
      "source": [
        "tirantez_mapping = {\n",
        "    'Mucho': 1,\n",
        "    'A veces': 2,\n",
        "    'No': 3,\n",
        "}"
      ],
      "metadata": {
        "id": "U-meErcTGszH"
      },
      "execution_count": null,
      "outputs": []
    },
    {
      "cell_type": "code",
      "source": [
        "data['Tirantez_Sequedad_Num'] = data['Tirantez_Sequedad'].map(tirantez_mapping)"
      ],
      "metadata": {
        "id": "uNMcT-8RGzQY"
      },
      "execution_count": null,
      "outputs": []
    },
    {
      "cell_type": "code",
      "source": [
        "data.head(1)"
      ],
      "metadata": {
        "colab": {
          "base_uri": "https://localhost:8080/",
          "height": 153
        },
        "id": "I7ergvUKG8iH",
        "outputId": "92b0fa2f-42e7-433c-d75f-5f8df95a81bc"
      },
      "execution_count": null,
      "outputs": [
        {
          "output_type": "execute_result",
          "data": {
            "text/plain": [
              "  Textura_Piel Piel_Brillante Tono_Piel Granitos_Imperfecciones  \\\n",
              "0       Gruesa        Siempre    Moreno                 Siempre   \n",
              "\n",
              "  Enrojece_Facilidad Irritacion_Piel Tirantez_Sequedad      Poros_Abiertos  \\\n",
              "0                 No            Poco                No  Sí, suelo tenerlos   \n",
              "\n",
              "  Couperosis Alergia_Cosmeticos Tipo de Piel  Textura_Piel_Num  \\\n",
              "0         No                 No         Oily                 1   \n",
              "\n",
              "   Piel_Brillante_Num  Tono_Piel_Num  Granitos_Imperfecciones_Num  \\\n",
              "0                   1              1                            1   \n",
              "\n",
              "   Enrojece_Facilidad_Num  Irritacion_Piel_Num  Tirantez_Sequedad_Num  \n",
              "0                       3                    3                      3  "
            ],
            "text/html": [
              "\n",
              "  <div id=\"df-e3324872-3fea-49ac-b5e7-e1a92d056a89\" class=\"colab-df-container\">\n",
              "    <div>\n",
              "<style scoped>\n",
              "    .dataframe tbody tr th:only-of-type {\n",
              "        vertical-align: middle;\n",
              "    }\n",
              "\n",
              "    .dataframe tbody tr th {\n",
              "        vertical-align: top;\n",
              "    }\n",
              "\n",
              "    .dataframe thead th {\n",
              "        text-align: right;\n",
              "    }\n",
              "</style>\n",
              "<table border=\"1\" class=\"dataframe\">\n",
              "  <thead>\n",
              "    <tr style=\"text-align: right;\">\n",
              "      <th></th>\n",
              "      <th>Textura_Piel</th>\n",
              "      <th>Piel_Brillante</th>\n",
              "      <th>Tono_Piel</th>\n",
              "      <th>Granitos_Imperfecciones</th>\n",
              "      <th>Enrojece_Facilidad</th>\n",
              "      <th>Irritacion_Piel</th>\n",
              "      <th>Tirantez_Sequedad</th>\n",
              "      <th>Poros_Abiertos</th>\n",
              "      <th>Couperosis</th>\n",
              "      <th>Alergia_Cosmeticos</th>\n",
              "      <th>Tipo de Piel</th>\n",
              "      <th>Textura_Piel_Num</th>\n",
              "      <th>Piel_Brillante_Num</th>\n",
              "      <th>Tono_Piel_Num</th>\n",
              "      <th>Granitos_Imperfecciones_Num</th>\n",
              "      <th>Enrojece_Facilidad_Num</th>\n",
              "      <th>Irritacion_Piel_Num</th>\n",
              "      <th>Tirantez_Sequedad_Num</th>\n",
              "    </tr>\n",
              "  </thead>\n",
              "  <tbody>\n",
              "    <tr>\n",
              "      <th>0</th>\n",
              "      <td>Gruesa</td>\n",
              "      <td>Siempre</td>\n",
              "      <td>Moreno</td>\n",
              "      <td>Siempre</td>\n",
              "      <td>No</td>\n",
              "      <td>Poco</td>\n",
              "      <td>No</td>\n",
              "      <td>Sí, suelo tenerlos</td>\n",
              "      <td>No</td>\n",
              "      <td>No</td>\n",
              "      <td>Oily</td>\n",
              "      <td>1</td>\n",
              "      <td>1</td>\n",
              "      <td>1</td>\n",
              "      <td>1</td>\n",
              "      <td>3</td>\n",
              "      <td>3</td>\n",
              "      <td>3</td>\n",
              "    </tr>\n",
              "  </tbody>\n",
              "</table>\n",
              "</div>\n",
              "    <div class=\"colab-df-buttons\">\n",
              "\n",
              "  <div class=\"colab-df-container\">\n",
              "    <button class=\"colab-df-convert\" onclick=\"convertToInteractive('df-e3324872-3fea-49ac-b5e7-e1a92d056a89')\"\n",
              "            title=\"Convert this dataframe to an interactive table.\"\n",
              "            style=\"display:none;\">\n",
              "\n",
              "  <svg xmlns=\"http://www.w3.org/2000/svg\" height=\"24px\" viewBox=\"0 -960 960 960\">\n",
              "    <path d=\"M120-120v-720h720v720H120Zm60-500h600v-160H180v160Zm220 220h160v-160H400v160Zm0 220h160v-160H400v160ZM180-400h160v-160H180v160Zm440 0h160v-160H620v160ZM180-180h160v-160H180v160Zm440 0h160v-160H620v160Z\"/>\n",
              "  </svg>\n",
              "    </button>\n",
              "\n",
              "  <style>\n",
              "    .colab-df-container {\n",
              "      display:flex;\n",
              "      gap: 12px;\n",
              "    }\n",
              "\n",
              "    .colab-df-convert {\n",
              "      background-color: #E8F0FE;\n",
              "      border: none;\n",
              "      border-radius: 50%;\n",
              "      cursor: pointer;\n",
              "      display: none;\n",
              "      fill: #1967D2;\n",
              "      height: 32px;\n",
              "      padding: 0 0 0 0;\n",
              "      width: 32px;\n",
              "    }\n",
              "\n",
              "    .colab-df-convert:hover {\n",
              "      background-color: #E2EBFA;\n",
              "      box-shadow: 0px 1px 2px rgba(60, 64, 67, 0.3), 0px 1px 3px 1px rgba(60, 64, 67, 0.15);\n",
              "      fill: #174EA6;\n",
              "    }\n",
              "\n",
              "    .colab-df-buttons div {\n",
              "      margin-bottom: 4px;\n",
              "    }\n",
              "\n",
              "    [theme=dark] .colab-df-convert {\n",
              "      background-color: #3B4455;\n",
              "      fill: #D2E3FC;\n",
              "    }\n",
              "\n",
              "    [theme=dark] .colab-df-convert:hover {\n",
              "      background-color: #434B5C;\n",
              "      box-shadow: 0px 1px 3px 1px rgba(0, 0, 0, 0.15);\n",
              "      filter: drop-shadow(0px 1px 2px rgba(0, 0, 0, 0.3));\n",
              "      fill: #FFFFFF;\n",
              "    }\n",
              "  </style>\n",
              "\n",
              "    <script>\n",
              "      const buttonEl =\n",
              "        document.querySelector('#df-e3324872-3fea-49ac-b5e7-e1a92d056a89 button.colab-df-convert');\n",
              "      buttonEl.style.display =\n",
              "        google.colab.kernel.accessAllowed ? 'block' : 'none';\n",
              "\n",
              "      async function convertToInteractive(key) {\n",
              "        const element = document.querySelector('#df-e3324872-3fea-49ac-b5e7-e1a92d056a89');\n",
              "        const dataTable =\n",
              "          await google.colab.kernel.invokeFunction('convertToInteractive',\n",
              "                                                    [key], {});\n",
              "        if (!dataTable) return;\n",
              "\n",
              "        const docLinkHtml = 'Like what you see? Visit the ' +\n",
              "          '<a target=\"_blank\" href=https://colab.research.google.com/notebooks/data_table.ipynb>data table notebook</a>'\n",
              "          + ' to learn more about interactive tables.';\n",
              "        element.innerHTML = '';\n",
              "        dataTable['output_type'] = 'display_data';\n",
              "        await google.colab.output.renderOutput(dataTable, element);\n",
              "        const docLink = document.createElement('div');\n",
              "        docLink.innerHTML = docLinkHtml;\n",
              "        element.appendChild(docLink);\n",
              "      }\n",
              "    </script>\n",
              "  </div>\n",
              "\n",
              "    </div>\n",
              "  </div>\n"
            ]
          },
          "metadata": {},
          "execution_count": 135
        }
      ]
    },
    {
      "cell_type": "code",
      "source": [
        "# Replace de datos en columna 'Poros Abiertos'\n",
        "data['Poros_Abiertos'] = data['Poros_Abiertos'].replace({\n",
        "    'Sí, suelo tenerlos': 'Si',\n",
        "    'A veces, en la nariz y la barbilla': 'A veces'\n",
        "})"
      ],
      "metadata": {
        "id": "eaAikvhfHCnA"
      },
      "execution_count": null,
      "outputs": []
    },
    {
      "cell_type": "code",
      "source": [
        "data['Poros_Abiertos'].value_counts()"
      ],
      "metadata": {
        "colab": {
          "base_uri": "https://localhost:8080/"
        },
        "id": "1BSO3SndHMBN",
        "outputId": "4a8248df-3bbf-42d2-f8c2-40b485d66fc3"
      },
      "execution_count": null,
      "outputs": [
        {
          "output_type": "execute_result",
          "data": {
            "text/plain": [
              "Si         19683\n",
              "A veces    19683\n",
              "No         19683\n",
              "Name: Poros_Abiertos, dtype: int64"
            ]
          },
          "metadata": {},
          "execution_count": 137
        }
      ]
    },
    {
      "cell_type": "code",
      "source": [
        "poros_mapping = {\n",
        "    'Si': 1,\n",
        "    'A veces': 2,\n",
        "    'No': 3,\n",
        "}"
      ],
      "metadata": {
        "id": "EHaKVOwoHOO8"
      },
      "execution_count": null,
      "outputs": []
    },
    {
      "cell_type": "code",
      "source": [
        "data['Poros_Abiertos_Num'] = data['Poros_Abiertos'].map(poros_mapping)"
      ],
      "metadata": {
        "id": "TXt3OFbXHWA-"
      },
      "execution_count": null,
      "outputs": []
    },
    {
      "cell_type": "code",
      "source": [
        "# Replace de datos en columna 'Couperosis'\n",
        "data['Couperosis'] = data['Couperosis'].replace({\n",
        "    'En muy raras ocasiones': 'Raro',\n",
        "    'Muchas veces': 'Mucho',\n",
        "    'No': 'Nunca'\n",
        "})"
      ],
      "metadata": {
        "id": "22hv9oveHgN1"
      },
      "execution_count": null,
      "outputs": []
    },
    {
      "cell_type": "code",
      "source": [
        "data['Couperosis'].value_counts()"
      ],
      "metadata": {
        "colab": {
          "base_uri": "https://localhost:8080/"
        },
        "id": "APkmEvo2HjME",
        "outputId": "f4c79e71-bc2d-43fe-d3e1-88cc90e67722"
      },
      "execution_count": null,
      "outputs": [
        {
          "output_type": "execute_result",
          "data": {
            "text/plain": [
              "Nunca    19683\n",
              "Raro     19683\n",
              "Mucho    19683\n",
              "Name: Couperosis, dtype: int64"
            ]
          },
          "metadata": {},
          "execution_count": 141
        }
      ]
    },
    {
      "cell_type": "code",
      "source": [
        "print(data.isnull().sum())"
      ],
      "metadata": {
        "colab": {
          "base_uri": "https://localhost:8080/"
        },
        "id": "2Hq8OSYzM_QJ",
        "outputId": "c1b84e2a-27a0-4fb9-9521-958d57ae8e32"
      },
      "execution_count": null,
      "outputs": [
        {
          "output_type": "stream",
          "name": "stdout",
          "text": [
            "Textura_Piel                   0\n",
            "Piel_Brillante                 0\n",
            "Tono_Piel                      0\n",
            "Granitos_Imperfecciones        0\n",
            "Enrojece_Facilidad             0\n",
            "Irritacion_Piel                0\n",
            "Tirantez_Sequedad              0\n",
            "Poros_Abiertos                 0\n",
            "Couperosis                     0\n",
            "Alergia_Cosmeticos             0\n",
            "Tipo de Piel                   0\n",
            "Textura_Piel_Num               0\n",
            "Piel_Brillante_Num             0\n",
            "Tono_Piel_Num                  0\n",
            "Granitos_Imperfecciones_Num    0\n",
            "Enrojece_Facilidad_Num         0\n",
            "Irritacion_Piel_Num            0\n",
            "Tirantez_Sequedad_Num          0\n",
            "Poros_Abiertos_Num             0\n",
            "dtype: int64\n"
          ]
        }
      ]
    },
    {
      "cell_type": "code",
      "source": [
        "couperosis_mapping = {\n",
        "    'Si': 1,\n",
        "    'A veces': 2,\n",
        "    'Nunca': 3,\n",
        "}"
      ],
      "metadata": {
        "id": "OoxuU_WRHmSB"
      },
      "execution_count": null,
      "outputs": []
    },
    {
      "cell_type": "code",
      "source": [
        "data['Couperosis_Num'] = data['Couperosis'].map(couperosis_mapping)"
      ],
      "metadata": {
        "id": "inxDKHv6HtHT"
      },
      "execution_count": null,
      "outputs": []
    },
    {
      "cell_type": "code",
      "source": [
        "print(data.isnull().sum())"
      ],
      "metadata": {
        "id": "kjDKiUaoNlur"
      },
      "execution_count": null,
      "outputs": []
    },
    {
      "cell_type": "code",
      "source": [
        "# Replace de datos en columna 'Alergia_Cosmeticos'\n",
        "data['Alergia_Cosmeticos'] = data['Alergia_Cosmeticos'].replace({\n",
        "    'Alguna vez, sobre todo si se trataba de un producto muy concentrado': 'A veces',\n",
        "    'Muchas veces': 'Mucho'\n",
        "})"
      ],
      "metadata": {
        "id": "IeIB-UkKH446"
      },
      "execution_count": null,
      "outputs": []
    },
    {
      "cell_type": "code",
      "source": [
        "data['Alergia_Cosmeticos'].value_counts()"
      ],
      "metadata": {
        "colab": {
          "base_uri": "https://localhost:8080/"
        },
        "id": "t4SmTLpUH7s9",
        "outputId": "4b152a34-d68e-4681-82f9-33414d5297bc"
      },
      "execution_count": null,
      "outputs": [
        {
          "output_type": "execute_result",
          "data": {
            "text/plain": [
              "No         19683\n",
              "A veces    19683\n",
              "Mucho      19683\n",
              "Name: Alergia_Cosmeticos, dtype: int64"
            ]
          },
          "metadata": {},
          "execution_count": 147
        }
      ]
    },
    {
      "cell_type": "code",
      "source": [
        "alergia_mapping = {\n",
        "    'Mucho': 1,\n",
        "    'A veces': 2,\n",
        "    'No': 3,\n",
        "}"
      ],
      "metadata": {
        "id": "hNEsQBY1ICem"
      },
      "execution_count": null,
      "outputs": []
    },
    {
      "cell_type": "code",
      "source": [
        "data['Alergia_Cosmeticos_Num'] = data['Alergia_Cosmeticos'].map(alergia_mapping)"
      ],
      "metadata": {
        "id": "Gs7r1y-III2n"
      },
      "execution_count": null,
      "outputs": []
    },
    {
      "cell_type": "code",
      "source": [
        "data.head(1)"
      ],
      "metadata": {
        "colab": {
          "base_uri": "https://localhost:8080/",
          "height": 130
        },
        "id": "34bfr4eyIfzT",
        "outputId": "1abd21fb-8f3f-4560-fe08-37627af00239"
      },
      "execution_count": null,
      "outputs": [
        {
          "output_type": "execute_result",
          "data": {
            "text/plain": [
              "  Textura_Piel Piel_Brillante Tono_Piel Granitos_Imperfecciones  \\\n",
              "0       Gruesa        Siempre    Moreno                 Siempre   \n",
              "\n",
              "  Enrojece_Facilidad Irritacion_Piel Tirantez_Sequedad Poros_Abiertos  \\\n",
              "0                 No            Poco                No             Si   \n",
              "\n",
              "  Couperosis Alergia_Cosmeticos  ... Textura_Piel_Num  Piel_Brillante_Num  \\\n",
              "0      Nunca                 No  ...                1                   1   \n",
              "\n",
              "   Tono_Piel_Num  Granitos_Imperfecciones_Num  Enrojece_Facilidad_Num  \\\n",
              "0              1                            1                       3   \n",
              "\n",
              "   Irritacion_Piel_Num  Tirantez_Sequedad_Num  Poros_Abiertos_Num  \\\n",
              "0                    3                      3                   1   \n",
              "\n",
              "   Couperosis_Num  Alergia_Cosmeticos_Num  \n",
              "0             3.0                       3  \n",
              "\n",
              "[1 rows x 21 columns]"
            ],
            "text/html": [
              "\n",
              "  <div id=\"df-168ed3e8-3080-4558-8e72-6e29e49d591e\" class=\"colab-df-container\">\n",
              "    <div>\n",
              "<style scoped>\n",
              "    .dataframe tbody tr th:only-of-type {\n",
              "        vertical-align: middle;\n",
              "    }\n",
              "\n",
              "    .dataframe tbody tr th {\n",
              "        vertical-align: top;\n",
              "    }\n",
              "\n",
              "    .dataframe thead th {\n",
              "        text-align: right;\n",
              "    }\n",
              "</style>\n",
              "<table border=\"1\" class=\"dataframe\">\n",
              "  <thead>\n",
              "    <tr style=\"text-align: right;\">\n",
              "      <th></th>\n",
              "      <th>Textura_Piel</th>\n",
              "      <th>Piel_Brillante</th>\n",
              "      <th>Tono_Piel</th>\n",
              "      <th>Granitos_Imperfecciones</th>\n",
              "      <th>Enrojece_Facilidad</th>\n",
              "      <th>Irritacion_Piel</th>\n",
              "      <th>Tirantez_Sequedad</th>\n",
              "      <th>Poros_Abiertos</th>\n",
              "      <th>Couperosis</th>\n",
              "      <th>Alergia_Cosmeticos</th>\n",
              "      <th>...</th>\n",
              "      <th>Textura_Piel_Num</th>\n",
              "      <th>Piel_Brillante_Num</th>\n",
              "      <th>Tono_Piel_Num</th>\n",
              "      <th>Granitos_Imperfecciones_Num</th>\n",
              "      <th>Enrojece_Facilidad_Num</th>\n",
              "      <th>Irritacion_Piel_Num</th>\n",
              "      <th>Tirantez_Sequedad_Num</th>\n",
              "      <th>Poros_Abiertos_Num</th>\n",
              "      <th>Couperosis_Num</th>\n",
              "      <th>Alergia_Cosmeticos_Num</th>\n",
              "    </tr>\n",
              "  </thead>\n",
              "  <tbody>\n",
              "    <tr>\n",
              "      <th>0</th>\n",
              "      <td>Gruesa</td>\n",
              "      <td>Siempre</td>\n",
              "      <td>Moreno</td>\n",
              "      <td>Siempre</td>\n",
              "      <td>No</td>\n",
              "      <td>Poco</td>\n",
              "      <td>No</td>\n",
              "      <td>Si</td>\n",
              "      <td>Nunca</td>\n",
              "      <td>No</td>\n",
              "      <td>...</td>\n",
              "      <td>1</td>\n",
              "      <td>1</td>\n",
              "      <td>1</td>\n",
              "      <td>1</td>\n",
              "      <td>3</td>\n",
              "      <td>3</td>\n",
              "      <td>3</td>\n",
              "      <td>1</td>\n",
              "      <td>3.0</td>\n",
              "      <td>3</td>\n",
              "    </tr>\n",
              "  </tbody>\n",
              "</table>\n",
              "<p>1 rows × 21 columns</p>\n",
              "</div>\n",
              "    <div class=\"colab-df-buttons\">\n",
              "\n",
              "  <div class=\"colab-df-container\">\n",
              "    <button class=\"colab-df-convert\" onclick=\"convertToInteractive('df-168ed3e8-3080-4558-8e72-6e29e49d591e')\"\n",
              "            title=\"Convert this dataframe to an interactive table.\"\n",
              "            style=\"display:none;\">\n",
              "\n",
              "  <svg xmlns=\"http://www.w3.org/2000/svg\" height=\"24px\" viewBox=\"0 -960 960 960\">\n",
              "    <path d=\"M120-120v-720h720v720H120Zm60-500h600v-160H180v160Zm220 220h160v-160H400v160Zm0 220h160v-160H400v160ZM180-400h160v-160H180v160Zm440 0h160v-160H620v160ZM180-180h160v-160H180v160Zm440 0h160v-160H620v160Z\"/>\n",
              "  </svg>\n",
              "    </button>\n",
              "\n",
              "  <style>\n",
              "    .colab-df-container {\n",
              "      display:flex;\n",
              "      gap: 12px;\n",
              "    }\n",
              "\n",
              "    .colab-df-convert {\n",
              "      background-color: #E8F0FE;\n",
              "      border: none;\n",
              "      border-radius: 50%;\n",
              "      cursor: pointer;\n",
              "      display: none;\n",
              "      fill: #1967D2;\n",
              "      height: 32px;\n",
              "      padding: 0 0 0 0;\n",
              "      width: 32px;\n",
              "    }\n",
              "\n",
              "    .colab-df-convert:hover {\n",
              "      background-color: #E2EBFA;\n",
              "      box-shadow: 0px 1px 2px rgba(60, 64, 67, 0.3), 0px 1px 3px 1px rgba(60, 64, 67, 0.15);\n",
              "      fill: #174EA6;\n",
              "    }\n",
              "\n",
              "    .colab-df-buttons div {\n",
              "      margin-bottom: 4px;\n",
              "    }\n",
              "\n",
              "    [theme=dark] .colab-df-convert {\n",
              "      background-color: #3B4455;\n",
              "      fill: #D2E3FC;\n",
              "    }\n",
              "\n",
              "    [theme=dark] .colab-df-convert:hover {\n",
              "      background-color: #434B5C;\n",
              "      box-shadow: 0px 1px 3px 1px rgba(0, 0, 0, 0.15);\n",
              "      filter: drop-shadow(0px 1px 2px rgba(0, 0, 0, 0.3));\n",
              "      fill: #FFFFFF;\n",
              "    }\n",
              "  </style>\n",
              "\n",
              "    <script>\n",
              "      const buttonEl =\n",
              "        document.querySelector('#df-168ed3e8-3080-4558-8e72-6e29e49d591e button.colab-df-convert');\n",
              "      buttonEl.style.display =\n",
              "        google.colab.kernel.accessAllowed ? 'block' : 'none';\n",
              "\n",
              "      async function convertToInteractive(key) {\n",
              "        const element = document.querySelector('#df-168ed3e8-3080-4558-8e72-6e29e49d591e');\n",
              "        const dataTable =\n",
              "          await google.colab.kernel.invokeFunction('convertToInteractive',\n",
              "                                                    [key], {});\n",
              "        if (!dataTable) return;\n",
              "\n",
              "        const docLinkHtml = 'Like what you see? Visit the ' +\n",
              "          '<a target=\"_blank\" href=https://colab.research.google.com/notebooks/data_table.ipynb>data table notebook</a>'\n",
              "          + ' to learn more about interactive tables.';\n",
              "        element.innerHTML = '';\n",
              "        dataTable['output_type'] = 'display_data';\n",
              "        await google.colab.output.renderOutput(dataTable, element);\n",
              "        const docLink = document.createElement('div');\n",
              "        docLink.innerHTML = docLinkHtml;\n",
              "        element.appendChild(docLink);\n",
              "      }\n",
              "    </script>\n",
              "  </div>\n",
              "\n",
              "    </div>\n",
              "  </div>\n"
            ]
          },
          "metadata": {},
          "execution_count": 150
        }
      ]
    },
    {
      "cell_type": "code",
      "source": [
        "data['Tipo de Piel'].value_counts()"
      ],
      "metadata": {
        "colab": {
          "base_uri": "https://localhost:8080/"
        },
        "id": "AHTjAE4qONJ5",
        "outputId": "629c461c-8728-4555-fd80-675ee05ff67f"
      },
      "execution_count": null,
      "outputs": [
        {
          "output_type": "execute_result",
          "data": {
            "text/plain": [
              "Normal       23772\n",
              "Sensitive    22205\n",
              "Oily          8512\n",
              "Dry           4560\n",
              "Name: Tipo de Piel, dtype: int64"
            ]
          },
          "metadata": {},
          "execution_count": 151
        }
      ]
    },
    {
      "cell_type": "code",
      "source": [
        "tipo_mapping = {\n",
        "    'Normal': 1,\n",
        "    'Sensitive': 2,\n",
        "    'Oily': 3,\n",
        "    'Dry': 4\n",
        "}"
      ],
      "metadata": {
        "id": "rjZ8zBuzOGxl"
      },
      "execution_count": null,
      "outputs": []
    },
    {
      "cell_type": "code",
      "source": [
        "data['Tipo_Piel_Num'] = data['Tipo de Piel'].map(tipo_mapping)"
      ],
      "metadata": {
        "id": "KRw3VydQOmvj"
      },
      "execution_count": null,
      "outputs": []
    },
    {
      "cell_type": "code",
      "source": [
        "data.head(1)"
      ],
      "metadata": {
        "colab": {
          "base_uri": "https://localhost:8080/",
          "height": 130
        },
        "id": "Y0nfgEkIOuK-",
        "outputId": "b53443be-4bee-4fc6-c7e8-36617196fcbf"
      },
      "execution_count": null,
      "outputs": [
        {
          "output_type": "execute_result",
          "data": {
            "text/plain": [
              "  Textura_Piel Piel_Brillante Tono_Piel Granitos_Imperfecciones  \\\n",
              "0       Gruesa        Siempre    Moreno                 Siempre   \n",
              "\n",
              "  Enrojece_Facilidad Irritacion_Piel Tirantez_Sequedad Poros_Abiertos  \\\n",
              "0                 No            Poco                No             Si   \n",
              "\n",
              "  Couperosis Alergia_Cosmeticos  ... Piel_Brillante_Num  Tono_Piel_Num  \\\n",
              "0      Nunca                 No  ...                  1              1   \n",
              "\n",
              "   Granitos_Imperfecciones_Num  Enrojece_Facilidad_Num  Irritacion_Piel_Num  \\\n",
              "0                            1                       3                    3   \n",
              "\n",
              "   Tirantez_Sequedad_Num  Poros_Abiertos_Num  Couperosis_Num  \\\n",
              "0                      3                   1             3.0   \n",
              "\n",
              "   Alergia_Cosmeticos_Num  Tipo_Piel_Num  \n",
              "0                       3              3  \n",
              "\n",
              "[1 rows x 22 columns]"
            ],
            "text/html": [
              "\n",
              "  <div id=\"df-2a2f2481-d15d-4bc7-b43a-7c51fdf82ab1\" class=\"colab-df-container\">\n",
              "    <div>\n",
              "<style scoped>\n",
              "    .dataframe tbody tr th:only-of-type {\n",
              "        vertical-align: middle;\n",
              "    }\n",
              "\n",
              "    .dataframe tbody tr th {\n",
              "        vertical-align: top;\n",
              "    }\n",
              "\n",
              "    .dataframe thead th {\n",
              "        text-align: right;\n",
              "    }\n",
              "</style>\n",
              "<table border=\"1\" class=\"dataframe\">\n",
              "  <thead>\n",
              "    <tr style=\"text-align: right;\">\n",
              "      <th></th>\n",
              "      <th>Textura_Piel</th>\n",
              "      <th>Piel_Brillante</th>\n",
              "      <th>Tono_Piel</th>\n",
              "      <th>Granitos_Imperfecciones</th>\n",
              "      <th>Enrojece_Facilidad</th>\n",
              "      <th>Irritacion_Piel</th>\n",
              "      <th>Tirantez_Sequedad</th>\n",
              "      <th>Poros_Abiertos</th>\n",
              "      <th>Couperosis</th>\n",
              "      <th>Alergia_Cosmeticos</th>\n",
              "      <th>...</th>\n",
              "      <th>Piel_Brillante_Num</th>\n",
              "      <th>Tono_Piel_Num</th>\n",
              "      <th>Granitos_Imperfecciones_Num</th>\n",
              "      <th>Enrojece_Facilidad_Num</th>\n",
              "      <th>Irritacion_Piel_Num</th>\n",
              "      <th>Tirantez_Sequedad_Num</th>\n",
              "      <th>Poros_Abiertos_Num</th>\n",
              "      <th>Couperosis_Num</th>\n",
              "      <th>Alergia_Cosmeticos_Num</th>\n",
              "      <th>Tipo_Piel_Num</th>\n",
              "    </tr>\n",
              "  </thead>\n",
              "  <tbody>\n",
              "    <tr>\n",
              "      <th>0</th>\n",
              "      <td>Gruesa</td>\n",
              "      <td>Siempre</td>\n",
              "      <td>Moreno</td>\n",
              "      <td>Siempre</td>\n",
              "      <td>No</td>\n",
              "      <td>Poco</td>\n",
              "      <td>No</td>\n",
              "      <td>Si</td>\n",
              "      <td>Nunca</td>\n",
              "      <td>No</td>\n",
              "      <td>...</td>\n",
              "      <td>1</td>\n",
              "      <td>1</td>\n",
              "      <td>1</td>\n",
              "      <td>3</td>\n",
              "      <td>3</td>\n",
              "      <td>3</td>\n",
              "      <td>1</td>\n",
              "      <td>3.0</td>\n",
              "      <td>3</td>\n",
              "      <td>3</td>\n",
              "    </tr>\n",
              "  </tbody>\n",
              "</table>\n",
              "<p>1 rows × 22 columns</p>\n",
              "</div>\n",
              "    <div class=\"colab-df-buttons\">\n",
              "\n",
              "  <div class=\"colab-df-container\">\n",
              "    <button class=\"colab-df-convert\" onclick=\"convertToInteractive('df-2a2f2481-d15d-4bc7-b43a-7c51fdf82ab1')\"\n",
              "            title=\"Convert this dataframe to an interactive table.\"\n",
              "            style=\"display:none;\">\n",
              "\n",
              "  <svg xmlns=\"http://www.w3.org/2000/svg\" height=\"24px\" viewBox=\"0 -960 960 960\">\n",
              "    <path d=\"M120-120v-720h720v720H120Zm60-500h600v-160H180v160Zm220 220h160v-160H400v160Zm0 220h160v-160H400v160ZM180-400h160v-160H180v160Zm440 0h160v-160H620v160ZM180-180h160v-160H180v160Zm440 0h160v-160H620v160Z\"/>\n",
              "  </svg>\n",
              "    </button>\n",
              "\n",
              "  <style>\n",
              "    .colab-df-container {\n",
              "      display:flex;\n",
              "      gap: 12px;\n",
              "    }\n",
              "\n",
              "    .colab-df-convert {\n",
              "      background-color: #E8F0FE;\n",
              "      border: none;\n",
              "      border-radius: 50%;\n",
              "      cursor: pointer;\n",
              "      display: none;\n",
              "      fill: #1967D2;\n",
              "      height: 32px;\n",
              "      padding: 0 0 0 0;\n",
              "      width: 32px;\n",
              "    }\n",
              "\n",
              "    .colab-df-convert:hover {\n",
              "      background-color: #E2EBFA;\n",
              "      box-shadow: 0px 1px 2px rgba(60, 64, 67, 0.3), 0px 1px 3px 1px rgba(60, 64, 67, 0.15);\n",
              "      fill: #174EA6;\n",
              "    }\n",
              "\n",
              "    .colab-df-buttons div {\n",
              "      margin-bottom: 4px;\n",
              "    }\n",
              "\n",
              "    [theme=dark] .colab-df-convert {\n",
              "      background-color: #3B4455;\n",
              "      fill: #D2E3FC;\n",
              "    }\n",
              "\n",
              "    [theme=dark] .colab-df-convert:hover {\n",
              "      background-color: #434B5C;\n",
              "      box-shadow: 0px 1px 3px 1px rgba(0, 0, 0, 0.15);\n",
              "      filter: drop-shadow(0px 1px 2px rgba(0, 0, 0, 0.3));\n",
              "      fill: #FFFFFF;\n",
              "    }\n",
              "  </style>\n",
              "\n",
              "    <script>\n",
              "      const buttonEl =\n",
              "        document.querySelector('#df-2a2f2481-d15d-4bc7-b43a-7c51fdf82ab1 button.colab-df-convert');\n",
              "      buttonEl.style.display =\n",
              "        google.colab.kernel.accessAllowed ? 'block' : 'none';\n",
              "\n",
              "      async function convertToInteractive(key) {\n",
              "        const element = document.querySelector('#df-2a2f2481-d15d-4bc7-b43a-7c51fdf82ab1');\n",
              "        const dataTable =\n",
              "          await google.colab.kernel.invokeFunction('convertToInteractive',\n",
              "                                                    [key], {});\n",
              "        if (!dataTable) return;\n",
              "\n",
              "        const docLinkHtml = 'Like what you see? Visit the ' +\n",
              "          '<a target=\"_blank\" href=https://colab.research.google.com/notebooks/data_table.ipynb>data table notebook</a>'\n",
              "          + ' to learn more about interactive tables.';\n",
              "        element.innerHTML = '';\n",
              "        dataTable['output_type'] = 'display_data';\n",
              "        await google.colab.output.renderOutput(dataTable, element);\n",
              "        const docLink = document.createElement('div');\n",
              "        docLink.innerHTML = docLinkHtml;\n",
              "        element.appendChild(docLink);\n",
              "      }\n",
              "    </script>\n",
              "  </div>\n",
              "\n",
              "    </div>\n",
              "  </div>\n"
            ]
          },
          "metadata": {},
          "execution_count": 154
        }
      ]
    },
    {
      "cell_type": "code",
      "source": [
        "data_form = data.drop(['Textura_Piel','Piel_Brillante','Tono_Piel','Granitos_Imperfecciones','Enrojece_Facilidad','Irritacion_Piel','Tirantez_Sequedad','Poros_Abiertos','Couperosis','Alergia_Cosmeticos','Tipo de Piel','Couperosis_Num'], axis=1)\n"
      ],
      "metadata": {
        "id": "5ARZE7Q7Oyjz"
      },
      "execution_count": null,
      "outputs": []
    },
    {
      "cell_type": "code",
      "source": [
        "data_form.head(1)"
      ],
      "metadata": {
        "colab": {
          "base_uri": "https://localhost:8080/",
          "height": 101
        },
        "id": "y1KnKla8PtPJ",
        "outputId": "3a67152b-8e0b-48ea-9010-12ada124515e"
      },
      "execution_count": null,
      "outputs": [
        {
          "output_type": "execute_result",
          "data": {
            "text/plain": [
              "   Textura_Piel_Num  Piel_Brillante_Num  Tono_Piel_Num  \\\n",
              "0                 1                   1              1   \n",
              "\n",
              "   Granitos_Imperfecciones_Num  Enrojece_Facilidad_Num  Irritacion_Piel_Num  \\\n",
              "0                            1                       3                    3   \n",
              "\n",
              "   Tirantez_Sequedad_Num  Poros_Abiertos_Num  Alergia_Cosmeticos_Num  \\\n",
              "0                      3                   1                       3   \n",
              "\n",
              "   Tipo_Piel_Num  \n",
              "0              3  "
            ],
            "text/html": [
              "\n",
              "  <div id=\"df-084fe542-a18d-4208-8bbb-dede1f880253\" class=\"colab-df-container\">\n",
              "    <div>\n",
              "<style scoped>\n",
              "    .dataframe tbody tr th:only-of-type {\n",
              "        vertical-align: middle;\n",
              "    }\n",
              "\n",
              "    .dataframe tbody tr th {\n",
              "        vertical-align: top;\n",
              "    }\n",
              "\n",
              "    .dataframe thead th {\n",
              "        text-align: right;\n",
              "    }\n",
              "</style>\n",
              "<table border=\"1\" class=\"dataframe\">\n",
              "  <thead>\n",
              "    <tr style=\"text-align: right;\">\n",
              "      <th></th>\n",
              "      <th>Textura_Piel_Num</th>\n",
              "      <th>Piel_Brillante_Num</th>\n",
              "      <th>Tono_Piel_Num</th>\n",
              "      <th>Granitos_Imperfecciones_Num</th>\n",
              "      <th>Enrojece_Facilidad_Num</th>\n",
              "      <th>Irritacion_Piel_Num</th>\n",
              "      <th>Tirantez_Sequedad_Num</th>\n",
              "      <th>Poros_Abiertos_Num</th>\n",
              "      <th>Alergia_Cosmeticos_Num</th>\n",
              "      <th>Tipo_Piel_Num</th>\n",
              "    </tr>\n",
              "  </thead>\n",
              "  <tbody>\n",
              "    <tr>\n",
              "      <th>0</th>\n",
              "      <td>1</td>\n",
              "      <td>1</td>\n",
              "      <td>1</td>\n",
              "      <td>1</td>\n",
              "      <td>3</td>\n",
              "      <td>3</td>\n",
              "      <td>3</td>\n",
              "      <td>1</td>\n",
              "      <td>3</td>\n",
              "      <td>3</td>\n",
              "    </tr>\n",
              "  </tbody>\n",
              "</table>\n",
              "</div>\n",
              "    <div class=\"colab-df-buttons\">\n",
              "\n",
              "  <div class=\"colab-df-container\">\n",
              "    <button class=\"colab-df-convert\" onclick=\"convertToInteractive('df-084fe542-a18d-4208-8bbb-dede1f880253')\"\n",
              "            title=\"Convert this dataframe to an interactive table.\"\n",
              "            style=\"display:none;\">\n",
              "\n",
              "  <svg xmlns=\"http://www.w3.org/2000/svg\" height=\"24px\" viewBox=\"0 -960 960 960\">\n",
              "    <path d=\"M120-120v-720h720v720H120Zm60-500h600v-160H180v160Zm220 220h160v-160H400v160Zm0 220h160v-160H400v160ZM180-400h160v-160H180v160Zm440 0h160v-160H620v160ZM180-180h160v-160H180v160Zm440 0h160v-160H620v160Z\"/>\n",
              "  </svg>\n",
              "    </button>\n",
              "\n",
              "  <style>\n",
              "    .colab-df-container {\n",
              "      display:flex;\n",
              "      gap: 12px;\n",
              "    }\n",
              "\n",
              "    .colab-df-convert {\n",
              "      background-color: #E8F0FE;\n",
              "      border: none;\n",
              "      border-radius: 50%;\n",
              "      cursor: pointer;\n",
              "      display: none;\n",
              "      fill: #1967D2;\n",
              "      height: 32px;\n",
              "      padding: 0 0 0 0;\n",
              "      width: 32px;\n",
              "    }\n",
              "\n",
              "    .colab-df-convert:hover {\n",
              "      background-color: #E2EBFA;\n",
              "      box-shadow: 0px 1px 2px rgba(60, 64, 67, 0.3), 0px 1px 3px 1px rgba(60, 64, 67, 0.15);\n",
              "      fill: #174EA6;\n",
              "    }\n",
              "\n",
              "    .colab-df-buttons div {\n",
              "      margin-bottom: 4px;\n",
              "    }\n",
              "\n",
              "    [theme=dark] .colab-df-convert {\n",
              "      background-color: #3B4455;\n",
              "      fill: #D2E3FC;\n",
              "    }\n",
              "\n",
              "    [theme=dark] .colab-df-convert:hover {\n",
              "      background-color: #434B5C;\n",
              "      box-shadow: 0px 1px 3px 1px rgba(0, 0, 0, 0.15);\n",
              "      filter: drop-shadow(0px 1px 2px rgba(0, 0, 0, 0.3));\n",
              "      fill: #FFFFFF;\n",
              "    }\n",
              "  </style>\n",
              "\n",
              "    <script>\n",
              "      const buttonEl =\n",
              "        document.querySelector('#df-084fe542-a18d-4208-8bbb-dede1f880253 button.colab-df-convert');\n",
              "      buttonEl.style.display =\n",
              "        google.colab.kernel.accessAllowed ? 'block' : 'none';\n",
              "\n",
              "      async function convertToInteractive(key) {\n",
              "        const element = document.querySelector('#df-084fe542-a18d-4208-8bbb-dede1f880253');\n",
              "        const dataTable =\n",
              "          await google.colab.kernel.invokeFunction('convertToInteractive',\n",
              "                                                    [key], {});\n",
              "        if (!dataTable) return;\n",
              "\n",
              "        const docLinkHtml = 'Like what you see? Visit the ' +\n",
              "          '<a target=\"_blank\" href=https://colab.research.google.com/notebooks/data_table.ipynb>data table notebook</a>'\n",
              "          + ' to learn more about interactive tables.';\n",
              "        element.innerHTML = '';\n",
              "        dataTable['output_type'] = 'display_data';\n",
              "        await google.colab.output.renderOutput(dataTable, element);\n",
              "        const docLink = document.createElement('div');\n",
              "        docLink.innerHTML = docLinkHtml;\n",
              "        element.appendChild(docLink);\n",
              "      }\n",
              "    </script>\n",
              "  </div>\n",
              "\n",
              "    </div>\n",
              "  </div>\n"
            ]
          },
          "metadata": {},
          "execution_count": 157
        }
      ]
    },
    {
      "cell_type": "code",
      "source": [
        "data_form.to_csv('df_form.csv', index = False)"
      ],
      "metadata": {
        "id": "4Zc-2scwP7dx"
      },
      "execution_count": null,
      "outputs": []
    }
  ]
}